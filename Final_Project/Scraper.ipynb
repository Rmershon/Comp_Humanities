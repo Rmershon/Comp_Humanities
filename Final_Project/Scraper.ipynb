{
 "cells": [
  {
   "cell_type": "markdown",
   "metadata": {},
   "source": [
    "# Image Scraper\n",
    "\n",
    "As noted before, this code is no longer functional for the website it was intended. However, please look at the work that was put into this portion of my project. As written about in my paper, this code did work, and I was able to download a small sample of images before the change was made. "
   ]
  },
  {
   "cell_type": "code",
   "execution_count": 181,
   "metadata": {
    "collapsed": true
   },
   "outputs": [],
   "source": [
    "import pandas as pd\n",
    "import numpy as np\n",
    "\n",
    "import string\n",
    "\n",
    "import re\n",
    "\n",
    "import os\n",
    "## import the urllib stuff for scraping\n",
    "\n",
    "import urllib\n",
    "from bs4 import BeautifulSoup"
   ]
  },
  {
   "cell_type": "code",
   "execution_count": 101,
   "metadata": {
    "collapsed": true
   },
   "outputs": [],
   "source": [
    "#Artchive - cant use, too variable\n",
    "artchive_page = \"http://www.artchive.com/artchive/artists.html\"\n",
    "artchive_lis = \"http://www.artchive.com/artchive/\"\n",
    "\n",
    "#WikiArt\n",
    "wikiart_page = \"https://www.wikiart.org/en/alphabet\" #each artist is listed in the alphabet\n",
    "wikiart = \"https://www.wikiart.org\"\n",
    "wikiart_genre = \"https://www.wikiart.org/en/artists-by-genre\"\n",
    "wikiart_rel = \"/religious-painting\"\n",
    "\n",
    "\n",
    "imgPath = \"Wikiart\"\n",
    "# aPage = urllib.request.urlopen(artchive_page)\n",
    "\n",
    "# soup = BeautifulSoup(aPage, 'html5lib')"
   ]
  },
  {
   "cell_type": "code",
   "execution_count": 13,
   "metadata": {
    "collapsed": true
   },
   "outputs": [],
   "source": [
    "wApage = urllib.request.urlopen(wikiart_page)\n",
    "\n",
    "soup = BeautifulSoup(wApage, 'html5lib')"
   ]
  },
  {
   "cell_type": "code",
   "execution_count": 15,
   "metadata": {
    "collapsed": true
   },
   "outputs": [],
   "source": [
    "lis = soup.find_all('ul', attrs={'class': 'alphabet-list'})"
   ]
  },
  {
   "cell_type": "markdown",
   "metadata": {},
   "source": [
    "## Scraping for Artist pages\n",
    "\n",
    "These functions are used to get the pages for each artist, either all of them on the site, or all for a genre. \n",
    "\n",
    "#### Please note that all the functions are depricated. Wikiart.org changed their site, and none of this works. "
   ]
  },
  {
   "cell_type": "code",
   "execution_count": 231,
   "metadata": {},
   "outputs": [
    {
     "name": "stdout",
     "output_type": "stream",
     "text": [
      "1\n",
      "<a class=\"image-wrapper\" href=\"/en/alberto-sotio\">\n",
      "                                    <img src=\"https://uploads.wikiart.org/Content/images/ARTIST-480x600.jpg\" title=\"Alberto Sotio\"/>\n",
      "                                </a>\n",
      "<a class=\"image-wrapper\" href=\"/en/duccio\">\n",
      "                                    <img src=\"https://uploads.wikiart.org/Content/images/ARTIST-480x600.jpg\" title=\"Duccio\"/>\n",
      "                                </a>\n",
      "<a class=\"image-wrapper\" href=\"/en/pietro-lorenzetti\">\n",
      "                                    <img src=\"https://uploads.wikiart.org/Content/images/ARTIST-480x600.jpg\" title=\"Pietro Lorenzetti\"/>\n",
      "                                </a>\n",
      "<a class=\"image-wrapper\" href=\"/en/simone-martini\">\n",
      "                                    <img src=\"https://uploads3.wikiart.org/images/simone-martini.jpg!PinterestLarge.jpg\" title=\"Simone Martini\"/>\n",
      "                                </a>\n",
      "<a class=\"image-wrapper\" href=\"/en/paolo-veneziano\">\n",
      "                                    <img src=\"https://uploads.wikiart.org/Content/images/ARTIST-480x600.jpg\" title=\"Paolo Veneziano\"/>\n",
      "                                </a>\n",
      "<a class=\"image-wrapper\" href=\"/en/melchior-broederlam\">\n",
      "                                    <img src=\"https://uploads.wikiart.org/Content/images/ARTIST-480x600.jpg\" title=\"Melchior Broederlam\"/>\n",
      "                                </a>\n",
      "<a class=\"image-wrapper\" href=\"/en/andrei-rublev\">\n",
      "                                    <img src=\"https://uploads2.wikiart.org/images/andrei-rublev.jpg!PinterestLarge.jpg\" title=\"Andrei Rublev\"/>\n",
      "                                </a>\n",
      "<a class=\"image-wrapper\" href=\"/en/gentile-da-fabriano\">\n",
      "                                    <img src=\"https://uploads.wikiart.org/Content/images/ARTIST-480x600.jpg\" title=\"Gentile da Fabriano\"/>\n",
      "                                </a>\n",
      "<a class=\"image-wrapper\" href=\"/en/fra-angelico\">\n",
      "                                    <img src=\"https://uploads1.wikiart.org/images/fra-angelico.jpg!PinterestLarge.jpg\" title=\"Fra Angelico\"/>\n",
      "                                </a>\n",
      "<a class=\"image-wrapper\" href=\"/en/jacopo-bellini\">\n",
      "                                    <img src=\"https://uploads.wikiart.org/Content/images/ARTIST-480x600.jpg\" title=\"Jacopo Bellini\"/>\n",
      "                                </a>\n",
      "<a class=\"image-wrapper\" href=\"/en/konrad-witz\">\n",
      "                                    <img src=\"https://uploads.wikiart.org/Content/images/ARTIST-480x600.jpg\" title=\"Konrad Witz\"/>\n",
      "                                </a>\n",
      "<a class=\"image-wrapper\" href=\"/en/jacques-daret\">\n",
      "                                    <img src=\"https://uploads.wikiart.org/Content/images/ARTIST-480x600.jpg\" title=\"Jacques Daret\"/>\n",
      "                                </a>\n",
      "<a class=\"image-wrapper\" href=\"/en/nuno-goncalves\">\n",
      "                                    <img src=\"https://uploads8.wikiart.org/00177/images//nuno-gonc-alves-padra-o-dos-descobrimentos.png!PinterestLarge.png\" title=\"Nuno Gonçalves\"/>\n",
      "                                </a>\n",
      "<a class=\"image-wrapper\" href=\"/en/carlo-crivelli\">\n",
      "                                    <img src=\"https://uploads.wikiart.org/Content/images/ARTIST-480x600.jpg\" title=\"Carlo Crivelli\"/>\n",
      "                                </a>\n",
      "<a class=\"image-wrapper\" href=\"/en/hugo-van-der-goes\">\n",
      "                                    <img src=\"https://uploads6.wikiart.org/images/hugo-van-der-goes.jpg!PinterestLarge.jpg\" title=\"Hugo van der Goes\"/>\n",
      "                                </a>\n",
      "<a class=\"image-wrapper\" href=\"/en/luca-signorelli\">\n",
      "                                    <img src=\"https://uploads5.wikiart.org/temp/cba462d0-f29c-4082-b6e5-cb261a66ab92.jpg!PinterestLarge.jpg\" title=\"Luca Signorelli\"/>\n",
      "                                </a>\n",
      "<a class=\"image-wrapper\" href=\"/en/francesco-botticini\">\n",
      "                                    <img src=\"https://uploads.wikiart.org/Content/images/ARTIST-480x600.jpg\" title=\"Francesco Botticini\"/>\n",
      "                                </a>\n",
      "<a class=\"image-wrapper\" href=\"/en/matthias-grunewald\">\n",
      "                                    <img src=\"https://uploads5.wikiart.org/temp/9f30c7f6-29c3-400d-b584-b26bb6c189bc.jpg!PinterestLarge.jpg\" title=\"Matthias Grünewald\"/>\n",
      "                                </a>\n",
      "<a class=\"image-wrapper\" href=\"/en/fra-bartolomeo\">\n",
      "                                    <img src=\"https://uploads5.wikiart.org/00149/images//fra-bartolommeo.jpg!PinterestLarge.jpg\" title=\"Fra Bartolomeo\"/>\n",
      "                                </a>\n",
      "<a class=\"image-wrapper\" href=\"/en/jean-hey\">\n",
      "                                    <img src=\"https://uploads.wikiart.org/Content/images/ARTIST-480x600.jpg\" title=\"Jean Hey\"/>\n",
      "                                </a>\n",
      "<a class=\"image-wrapper\" href=\"/en/mabuse\">\n",
      "                                    <img src=\"https://uploads5.wikiart.org/temp/5df7d7b0-f11c-4dd2-a944-ddd586da55d9.jpg!PinterestLarge.jpg\" title=\"Mabuse\"/>\n",
      "                                </a>\n",
      "<a class=\"image-wrapper\" href=\"/en/benvenuto-tisi\">\n",
      "                                    <img src=\"https://uploads3.wikiart.org/images/benvenuto-tisi.jpg!PinterestLarge.jpg\" title=\"Benvenuto Tisi\"/>\n",
      "                                </a>\n",
      "<a class=\"image-wrapper\" href=\"/en/maerten-van-heemskerck\">\n",
      "                                    <img src=\"https://uploads5.wikiart.org/temp/67699c17-e4ac-46cd-bc88-480791002d91.jpg!PinterestLarge.jpg\" title=\"Maerten van Heemskerck\"/>\n",
      "                                </a>\n",
      "<a class=\"image-wrapper\" href=\"/en/plautilla-nelli\">\n",
      "                                    <img src=\"https://uploads4.wikiart.org/images/plautilla-nelli.jpg!PinterestLarge.jpg\" title=\"Plautilla Nelli\"/>\n",
      "                                </a>\n",
      "<a class=\"image-wrapper\" href=\"/en/isaac-fuller\">\n",
      "                                    <img src=\"https://uploads3.wikiart.org/00114/images//isaac-fuller-autoportrait.jpg!PinterestLarge.jpg\" title=\"Isaac Fuller\"/>\n",
      "                                </a>\n",
      "<a class=\"image-wrapper\" href=\"/en/ivan-rutkovych\">\n",
      "                                    <img src=\"https://uploads.wikiart.org/Content/images/ARTIST-480x600.jpg\" title=\"Ivan Rutkovych\"/>\n",
      "                                </a>\n",
      "<a class=\"image-wrapper\" href=\"/en/giuseppe-maria-crespi\">\n",
      "                                    <img src=\"https://uploads5.wikiart.org/temp/4d588525-2bba-4670-b563-fcea008a7c68.jpg!PinterestLarge.jpg\" title=\"Giuseppe Maria Crespi\"/>\n",
      "                                </a>\n",
      "<a class=\"image-wrapper\" href=\"/en/yov-kondzelevych\">\n",
      "                                    <img src=\"https://uploads.wikiart.org/Content/images/ARTIST-480x600.jpg\" title=\"Yov Kondzelevych\"/>\n",
      "                                </a>\n",
      "<a class=\"image-wrapper\" href=\"/en/jose-luzan\">\n",
      "                                    <img src=\"https://uploads.wikiart.org/Content/images/ARTIST-480x600.jpg\" title=\"José Luzán\"/>\n",
      "                                </a>\n",
      "<a class=\"image-wrapper\" href=\"/en/marcos-zapata\">\n",
      "                                    <img src=\"https://uploads3.wikiart.org/00150/images/marcos-zapata/img489-1.jpg!PinterestLarge.jpg\" title=\"Marcos Zapata\"/>\n",
      "                                </a>\n",
      "<a class=\"image-wrapper\" href=\"/en/anton-raphael-mengs\">\n",
      "                                    <img src=\"https://uploads6.wikiart.org/00118/images/anton-raphael-mengs/self-portrait-1775.jpg!PinterestLarge.jpg\" title=\"Anton Raphael Mengs\"/>\n",
      "                                </a>\n",
      "<a class=\"image-wrapper\" href=\"/en/john-martin\">\n",
      "                                    <img src=\"https://uploads0.wikiart.org/images/john-martin.jpg!PinterestLarge.jpg\" title=\"John Martin\"/>\n",
      "                                </a>\n",
      "<a class=\"image-wrapper\" href=\"/en/nikolai-ge\">\n",
      "                                    <img src=\"https://uploads5.wikiart.org/temp/05fe6644-abb3-400d-80a2-5f08dcffdbf1.jpg!PinterestLarge.jpg\" title=\"Nikolai Ge\"/>\n",
      "                                </a>\n",
      "<a class=\"image-wrapper\" href=\"/en/carl-bloch\">\n",
      "                                    <img src=\"https://uploads5.wikiart.org/temp/64991eb0-e05f-4479-a029-61a20bc0bf55.jpg!PinterestLarge.jpg\" title=\"Carl Bloch\"/>\n",
      "                                </a>\n",
      "<a class=\"image-wrapper\" href=\"/en/eduard-von-gebhardt\">\n",
      "                                    <img src=\"https://uploads5.wikiart.org/temp/2ae004de-a38e-48a7-b633-1bb78d582e22.jpg!PinterestLarge.jpg\" title=\"Eduard von Gebhardt\"/>\n",
      "                                </a>\n",
      "<a class=\"image-wrapper\" href=\"/en/jean-lecomte-du-nouy\">\n",
      "                                    <img src=\"https://uploads8.wikiart.org/00174/images//lecomte-du-no-y-by-nadar.jpg!PinterestLarge.jpg\" title=\"Jean Lecomte du Nouÿ\"/>\n",
      "                                </a>\n",
      "<a class=\"image-wrapper\" href=\"/en/henryk-siemiradzki\">\n",
      "                                    <img src=\"https://uploads7.wikiart.org/images/henryk-siemiradzki.jpg!PinterestLarge.jpg\" title=\"Henryk Siemiradzki\"/>\n",
      "                                </a>\n",
      "<a class=\"image-wrapper\" href=\"/en/luc-olivier-merson\">\n",
      "                                    <img src=\"https://uploads7.wikiart.org/images/luc-olivier-merson.jpg!PinterestLarge.jpg\" title=\"Luc-Olivier Merson\"/>\n",
      "                                </a>\n",
      "<a class=\"image-wrapper\" href=\"/en/petro-kholodny-elder\">\n",
      "                                    <img src=\"https://uploads0.wikiart.org/images/petro-kholodny-older.jpg!PinterestLarge.jpg\" title=\"Petro Kholodny (Elder)\"/>\n",
      "                                </a>\n",
      "<a class=\"image-wrapper\" href=\"/en/mahmoud-saiid\">\n",
      "                                    <img src=\"https://uploads0.wikiart.org/00117/images//self-portrait.png!PinterestLarge.png\" title=\"Mahmoud Saiid\"/>\n",
      "                                </a>\n",
      "<a class=\"image-wrapper\" href=\"/en/jerzy-nowosielski\">\n",
      "                                    <img src=\"https://uploads8.wikiart.org/00128/images/jerzy-nowosielski/jerzy-nowosielski-portret-wyk-zbigniew-kresowaty.jpg!PinterestLarge.jpg\" title=\"Jerzy Nowosielski\"/>\n",
      "                                </a>\n",
      "<a class=\"image-wrapper\" href=\"/en/silviu-oravitzan\">\n",
      "                                    <img src=\"https://uploads5.wikiart.org/temp/dd3cee11-6199-4b53-8d29-bc7e373f1454.jpg!PinterestLarge.jpg\" title=\"Silviu Oravitzan\"/>\n",
      "                                </a>\n"
     ]
    }
   ],
   "source": [
    "#get all artists and their page links\n",
    "def getAllArtists():\n",
    "    al = {}\n",
    "    for c in string.ascii_lowercase:\n",
    "        page = urllib.request.urlopen(wikiart_page + '/' + c)\n",
    "        soup = BeautifulSoup(page, 'html5lib')\n",
    "\n",
    "        ul = soup.find_all('ul', attrs={'class': 'wiki-artistgallery-container ng-isolate-scope'})\n",
    "        print(c, len(ul))\n",
    "\n",
    "        for link in ul[0].find_all('a', attrs={'href': True, 'title': True, 'style': True}):\n",
    "            #name = link['title']\n",
    "            name = link['href'][4:].replace('-', ' ')\n",
    "            al[name] = link['href']\n",
    "    return al\n",
    "\n",
    "def getGenre(genre):\n",
    "    al = {}\n",
    "    page = urllib.request.urlopen(wikiart_genre + genre)\n",
    "    soup = BeautifulSoup(page, 'html5lib')\n",
    "\n",
    "    div = soup.find_all('div', attrs={'class': 'artist-gallery-content'})\n",
    "\n",
    "    print(len(div))\n",
    "    for link in div[0].find_all('a', attrs={'href': True, 'class': True}):\n",
    "        print(link)\n",
    "        #name = link['title']\n",
    "        name = link['href'][4:].replace('-', ' ')\n",
    "        al[name] = link['href']\n",
    "    \n",
    "    return al\n",
    "\n",
    "religiousArtists = getGenre(wikiart_rel)"
   ]
  },
  {
   "cell_type": "code",
   "execution_count": 232,
   "metadata": {},
   "outputs": [
    {
     "data": {
      "text/plain": [
       "42"
      ]
     },
     "execution_count": 232,
     "metadata": {},
     "output_type": "execute_result"
    }
   ],
   "source": [
    "len(religiousArtists)"
   ]
  },
  {
   "cell_type": "code",
   "execution_count": 73,
   "metadata": {
    "scrolled": true
   },
   "outputs": [
    {
     "name": "stdout",
     "output_type": "stream",
     "text": [
      "a 1\n",
      "b 1\n",
      "c 1\n",
      "d 1\n",
      "e 1\n",
      "f 1\n",
      "g 1\n",
      "h 1\n",
      "i 1\n",
      "j 1\n",
      "k 1\n",
      "l 1\n",
      "m 1\n",
      "n 1\n",
      "o 1\n",
      "p 1\n",
      "q 1\n",
      "r 1\n",
      "s 1\n",
      "t 1\n",
      "u 1\n",
      "v 1\n",
      "w 1\n",
      "x 1\n",
      "y 1\n",
      "z 1\n"
     ]
    }
   ],
   "source": [
    "artist_links = getAllArtists()"
   ]
  },
  {
   "cell_type": "code",
   "execution_count": 75,
   "metadata": {},
   "outputs": [
    {
     "data": {
      "text/plain": [
       "2814"
      ]
     },
     "execution_count": 75,
     "metadata": {},
     "output_type": "execute_result"
    }
   ],
   "source": [
    "len(artist_links)"
   ]
  },
  {
   "cell_type": "markdown",
   "metadata": {},
   "source": [
    "## Scraping for Artwork\n",
    "\n"
   ]
  },
  {
   "cell_type": "code",
   "execution_count": 283,
   "metadata": {
    "collapsed": true
   },
   "outputs": [],
   "source": [
    "#artist name '/all-works' gets you all their artworks\n",
    "artist_painting_links = {}\n",
    "def getPaintingLinks(artistLinks):\n",
    "    apl = {}\n",
    "    for n in list(artistLinks.keys())[:5]:\n",
    "        paintings = {}\n",
    "        artistPage = artistLinks[n]\n",
    "\n",
    "        page = urllib.request.urlopen(wikiart + artistPage + \"/all-works\")\n",
    "        soup = BeautifulSoup(page, 'html5lib')\n",
    "        \n",
    "        art_links = soup.find_all('div', attrs={'class': 'title-block'})\n",
    "        print(art_links)\n",
    "#         for ul in art_links:\n",
    "#             art = ul.find('a', attrs={'class': True})\n",
    "#             if art['href'] != artistPage:\n",
    "#                 name = art.getText()\n",
    "#                 paintings[name] = art['href']\n",
    "#         apl[n] = paintings\n",
    "            \n",
    "    return apl       "
   ]
  },
  {
   "cell_type": "code",
   "execution_count": 282,
   "metadata": {},
   "outputs": [
    {
     "name": "stdout",
     "output_type": "stream",
     "text": [
      "[]\n",
      "[]\n",
      "[]\n",
      "[]\n",
      "[]\n"
     ]
    }
   ],
   "source": [
    "rel_paintLinks = getPaintingLinks(religiousArtists)"
   ]
  },
  {
   "cell_type": "code",
   "execution_count": 249,
   "metadata": {},
   "outputs": [
    {
     "data": {
      "text/plain": [
       "{'alberto sotio': {},\n",
       " 'duccio': {},\n",
       " 'paolo veneziano': {},\n",
       " 'pietro lorenzetti': {},\n",
       " 'simone martini': {}}"
      ]
     },
     "execution_count": 249,
     "metadata": {},
     "output_type": "execute_result"
    }
   ],
   "source": [
    "rel_paintLinks"
   ]
  },
  {
   "cell_type": "code",
   "execution_count": 82,
   "metadata": {
    "collapsed": true
   },
   "outputs": [],
   "source": [
    "page = urllib.request.urlopen(wikiart + rel_paintLinks['alberto sotio']['Madonna Di Ambro'])\n",
    "soup = BeautifulSoup(page, 'html5lib')"
   ]
  },
  {
   "cell_type": "code",
   "execution_count": 87,
   "metadata": {},
   "outputs": [
    {
     "data": {
      "text/plain": [
       "'https://uploads6.wikiart.org/00114/images/alberto-sotio/madonna-di-ambro.jpg'"
      ]
     },
     "execution_count": 87,
     "metadata": {},
     "output_type": "execute_result"
    }
   ],
   "source": [
    "soup.find_all('a', attrs={'id':'image-link'})[0]['href']"
   ]
  },
  {
   "cell_type": "code",
   "execution_count": null,
   "metadata": {
    "collapsed": true
   },
   "outputs": [],
   "source": []
  },
  {
   "cell_type": "code",
   "execution_count": 208,
   "metadata": {
    "collapsed": true
   },
   "outputs": [],
   "source": [
    "def downloadImgs(artistPaint, numPaintings=5):\n",
    "    paintings = {}\n",
    "    count = 0   \n",
    "    for n in list(artistPaint.keys())[:5]:\n",
    "        aName = len(n)\n",
    "        paintings_num = 1\n",
    "        if len(artistPaint[n]) >= numPaintings:\n",
    "            paintings_num = numPaintings\n",
    "        else:\n",
    "            paintings_num = len(artistPaint[n])\n",
    "    \n",
    "        for p in list(artistPaint[n].keys())[:paintings_num]:\n",
    "            count += 1\n",
    "            page = urllib.request.urlopen(wikiart + artistPaint[n][p])\n",
    "            soup = BeautifulSoup(page, 'html5lib')\n",
    "            #print(artistPaint[n][p])\n",
    "\n",
    "            link = soup.find('img', attrs={'itemprop': 'image'})['src']\n",
    "\n",
    "            link = urllib.parse.quote(link.encode('utf8'), ':/')\n",
    "            # need to get the image downloaded, get the year (if it exisits), get genre\n",
    "            dirpath = imgPath + '/' + n.replace(' ', '-')\n",
    "            try: \n",
    "                os.mkdir(dirpath)\n",
    "            except FileExistsError:\n",
    "                pass\n",
    "                #print('Directory {} already exists'.format(dirpath))\n",
    "\n",
    "            path = urllib.request.urlretrieve(link, (dirpath + '/' + artistPaint[n][p][5 + aName:] + '.jpg'))\n",
    "            year = getVal(soup, 'dateCreated')\n",
    "            genre = getVal(soup, 'genre')\n",
    "            print(p)\n",
    "            paintings[p + ' ' + n] = [n, artistPaint[n][p], path[0], year, genre]\n",
    "    print(len(paintings), count)\n",
    "    \n",
    "    return paintings\n",
    "    \n",
    "    \n",
    "#Fix this function, for the proper way to get it out\n",
    "# not all the paintings have this same layout for \n",
    "# genre, and if I wan to add style. \n",
    "def getVal(s, t):\n",
    "    r = s.find('span', attrs={'itemprop': t})\n",
    "    if r:\n",
    "        return r.getText()\n",
    "    return None"
   ]
  },
  {
   "cell_type": "code",
   "execution_count": 209,
   "metadata": {},
   "outputs": [
    {
     "name": "stdout",
     "output_type": "stream",
     "text": [
      "Madonna in Maesta\n",
      "The Crucifixion with the Virgin Mary and St John\n",
      "The Mourning Virgin Mary 1180 90\n",
      "Martyrdom of St. John and St. Paul\n",
      "Madonna Di Ambro\n",
      "Crevole Madonna\n",
      "Madonna and Child (no. 593)\n",
      "Maestà\n",
      "Madonna and Child\n",
      "Madonna of Crevole\n",
      "Polyptych\n",
      "Crucifix\n",
      "Shaped Cross\n",
      "Predella Panel. St Albert Presents the Rule to the Carmelites\n",
      "Predella Panel. Hermits at the Fountain of Elijah\n",
      "Saint Catherine of Alexandria Polyptych\n",
      "Maestà\n",
      "Virgin and Child with Saints (Boston Polyptych)\n",
      "Guidoriccio da Fogliano\n",
      "The Miracle of the Child Attacked and Rescued by Augustine Novello\n",
      "Coronation of the Virgin\n",
      "Madonna and Child with Two Votaries\n",
      "Madonna of the Poppy\n",
      "Doge Francesco Dandolo and His Wife Presented to the Madonna\n",
      "Monument to the Doge Francesco Dandolo\n",
      "25 25\n"
     ]
    }
   ],
   "source": [
    "rel_paintD = downloadImgs(rel_paintLinks, 5)"
   ]
  },
  {
   "cell_type": "code",
   "execution_count": 210,
   "metadata": {
    "collapsed": true
   },
   "outputs": [],
   "source": [
    "rel_paintDF = pd.DataFrame.from_dict(rel_paintD).T.rename(columns={0:\"Artist\", 1:\"Link Ext\", 2:\"Path\", 3:\"Year\", 4:\"Genre\"})"
   ]
  },
  {
   "cell_type": "code",
   "execution_count": 211,
   "metadata": {},
   "outputs": [
    {
     "data": {
      "text/html": [
       "<div>\n",
       "<style>\n",
       "    .dataframe thead tr:only-child th {\n",
       "        text-align: right;\n",
       "    }\n",
       "\n",
       "    .dataframe thead th {\n",
       "        text-align: left;\n",
       "    }\n",
       "\n",
       "    .dataframe tbody tr th {\n",
       "        vertical-align: top;\n",
       "    }\n",
       "</style>\n",
       "<table border=\"1\" class=\"dataframe\">\n",
       "  <thead>\n",
       "    <tr style=\"text-align: right;\">\n",
       "      <th></th>\n",
       "      <th>Artist</th>\n",
       "      <th>Link Ext</th>\n",
       "      <th>Path</th>\n",
       "      <th>Year</th>\n",
       "      <th>Genre</th>\n",
       "    </tr>\n",
       "  </thead>\n",
       "  <tbody>\n",
       "    <tr>\n",
       "      <th>Coronation of the Virgin paolo veneziano</th>\n",
       "      <td>paolo veneziano</td>\n",
       "      <td>/en/paolo-veneziano/coronation-of-the-virgin-1324</td>\n",
       "      <td>Wikiart/paolo-veneziano/coronation-of-the-virg...</td>\n",
       "      <td>1324</td>\n",
       "      <td>religious painting</td>\n",
       "    </tr>\n",
       "    <tr>\n",
       "      <th>Crevole Madonna duccio</th>\n",
       "      <td>duccio</td>\n",
       "      <td>/en/duccio/crevole-madonna</td>\n",
       "      <td>Wikiart/duccio/crevole-madonna.jpg</td>\n",
       "      <td>1280</td>\n",
       "      <td>religious painting</td>\n",
       "    </tr>\n",
       "    <tr>\n",
       "      <th>Crucifix pietro lorenzetti</th>\n",
       "      <td>pietro lorenzetti</td>\n",
       "      <td>/en/pietro-lorenzetti/crucifix</td>\n",
       "      <td>Wikiart/pietro-lorenzetti/crucifix.jpg</td>\n",
       "      <td>1320</td>\n",
       "      <td>religious painting</td>\n",
       "    </tr>\n",
       "    <tr>\n",
       "      <th>Doge Francesco Dandolo and His Wife Presented to the Madonna paolo veneziano</th>\n",
       "      <td>paolo veneziano</td>\n",
       "      <td>/en/paolo-veneziano/doge-francesco-dandolo-and...</td>\n",
       "      <td>Wikiart/paolo-veneziano/doge-francesco-dandolo...</td>\n",
       "      <td>1339</td>\n",
       "      <td>religious painting</td>\n",
       "    </tr>\n",
       "    <tr>\n",
       "      <th>Guidoriccio da Fogliano simone martini</th>\n",
       "      <td>simone martini</td>\n",
       "      <td>/en/simone-martini/guidoriccio-da-fogliano-1328</td>\n",
       "      <td>Wikiart/simone-martini/guidoriccio-da-fogliano...</td>\n",
       "      <td>1328</td>\n",
       "      <td>None</td>\n",
       "    </tr>\n",
       "    <tr>\n",
       "      <th>Madonna Di Ambro alberto sotio</th>\n",
       "      <td>alberto sotio</td>\n",
       "      <td>/en/alberto-sotio/madonna-di-ambro</td>\n",
       "      <td>Wikiart/alberto-sotio/madonna-di-ambro.jpg</td>\n",
       "      <td>None</td>\n",
       "      <td>religious painting</td>\n",
       "    </tr>\n",
       "    <tr>\n",
       "      <th>Madonna and Child (no. 593) duccio</th>\n",
       "      <td>duccio</td>\n",
       "      <td>/en/duccio/madonna-and-child-no-593</td>\n",
       "      <td>Wikiart/duccio/madonna-and-child-no-593.jpg</td>\n",
       "      <td>1280</td>\n",
       "      <td>religious painting</td>\n",
       "    </tr>\n",
       "    <tr>\n",
       "      <th>Madonna and Child duccio</th>\n",
       "      <td>duccio</td>\n",
       "      <td>/en/duccio/madonna-and-child-1305</td>\n",
       "      <td>Wikiart/duccio/madonna-and-child-1305.jpg</td>\n",
       "      <td>1305</td>\n",
       "      <td>religious painting</td>\n",
       "    </tr>\n",
       "    <tr>\n",
       "      <th>Madonna and Child with Two Votaries paolo veneziano</th>\n",
       "      <td>paolo veneziano</td>\n",
       "      <td>/en/paolo-veneziano/madonna-and-child-with-two...</td>\n",
       "      <td>Wikiart/paolo-veneziano/madonna-and-child-with...</td>\n",
       "      <td>1325</td>\n",
       "      <td>religious painting</td>\n",
       "    </tr>\n",
       "    <tr>\n",
       "      <th>Madonna in Maesta alberto sotio</th>\n",
       "      <td>alberto sotio</td>\n",
       "      <td>/en/alberto-sotio/madonna-in-maesta</td>\n",
       "      <td>Wikiart/alberto-sotio/madonna-in-maesta.jpg</td>\n",
       "      <td>None</td>\n",
       "      <td>religious painting</td>\n",
       "    </tr>\n",
       "    <tr>\n",
       "      <th>Madonna of Crevole duccio</th>\n",
       "      <td>duccio</td>\n",
       "      <td>/en/duccio/madonna-of-crevole-1284</td>\n",
       "      <td>Wikiart/duccio/madonna-of-crevole-1284.jpg</td>\n",
       "      <td>1284</td>\n",
       "      <td>religious painting</td>\n",
       "    </tr>\n",
       "    <tr>\n",
       "      <th>Madonna of the Poppy paolo veneziano</th>\n",
       "      <td>paolo veneziano</td>\n",
       "      <td>/en/paolo-veneziano/madonna-of-the-poppy-1325</td>\n",
       "      <td>Wikiart/paolo-veneziano/madonna-of-the-poppy-1...</td>\n",
       "      <td>1325</td>\n",
       "      <td>religious painting</td>\n",
       "    </tr>\n",
       "    <tr>\n",
       "      <th>Maestà duccio</th>\n",
       "      <td>duccio</td>\n",
       "      <td>/en/duccio/maesta-1280</td>\n",
       "      <td>Wikiart/duccio/maesta-1280.jpg</td>\n",
       "      <td>1280</td>\n",
       "      <td>religious painting</td>\n",
       "    </tr>\n",
       "    <tr>\n",
       "      <th>Maestà simone martini</th>\n",
       "      <td>simone martini</td>\n",
       "      <td>/en/simone-martini/maest-1321</td>\n",
       "      <td>Wikiart/simone-martini/maest-1321.jpg</td>\n",
       "      <td>1321</td>\n",
       "      <td>religious painting</td>\n",
       "    </tr>\n",
       "    <tr>\n",
       "      <th>Martyrdom of St. John and St. Paul alberto sotio</th>\n",
       "      <td>alberto sotio</td>\n",
       "      <td>/en/alberto-sotio/martyrdom-of-st-john-and-st-...</td>\n",
       "      <td>Wikiart/alberto-sotio/martyrdom-of-st-john-and...</td>\n",
       "      <td>None</td>\n",
       "      <td>religious painting</td>\n",
       "    </tr>\n",
       "    <tr>\n",
       "      <th>Monument to the Doge Francesco Dandolo paolo veneziano</th>\n",
       "      <td>paolo veneziano</td>\n",
       "      <td>/en/paolo-veneziano/monument-to-the-doge-franc...</td>\n",
       "      <td>Wikiart/paolo-veneziano/monument-to-the-doge-f...</td>\n",
       "      <td>1339</td>\n",
       "      <td>religious painting</td>\n",
       "    </tr>\n",
       "    <tr>\n",
       "      <th>Polyptych pietro lorenzetti</th>\n",
       "      <td>pietro lorenzetti</td>\n",
       "      <td>/en/pietro-lorenzetti/polyptych-1320</td>\n",
       "      <td>Wikiart/pietro-lorenzetti/polyptych-1320.jpg</td>\n",
       "      <td>1320</td>\n",
       "      <td>religious painting</td>\n",
       "    </tr>\n",
       "    <tr>\n",
       "      <th>Predella Panel. Hermits at the Fountain of Elijah pietro lorenzetti</th>\n",
       "      <td>pietro lorenzetti</td>\n",
       "      <td>/en/pietro-lorenzetti/predella-panel-hermits-a...</td>\n",
       "      <td>Wikiart/pietro-lorenzetti/predella-panel-hermi...</td>\n",
       "      <td>1329</td>\n",
       "      <td>religious painting</td>\n",
       "    </tr>\n",
       "    <tr>\n",
       "      <th>Predella Panel. St Albert Presents the Rule to the Carmelites pietro lorenzetti</th>\n",
       "      <td>pietro lorenzetti</td>\n",
       "      <td>/en/pietro-lorenzetti/predella-panel-st-albert...</td>\n",
       "      <td>Wikiart/pietro-lorenzetti/predella-panel-st-al...</td>\n",
       "      <td>1329</td>\n",
       "      <td>religious painting</td>\n",
       "    </tr>\n",
       "    <tr>\n",
       "      <th>Saint Catherine of Alexandria Polyptych simone martini</th>\n",
       "      <td>simone martini</td>\n",
       "      <td>/en/simone-martini/saint-catherine-of-alexandr...</td>\n",
       "      <td>Wikiart/simone-martini/saint-catherine-of-alex...</td>\n",
       "      <td>1319</td>\n",
       "      <td>religious painting</td>\n",
       "    </tr>\n",
       "    <tr>\n",
       "      <th>Shaped Cross pietro lorenzetti</th>\n",
       "      <td>pietro lorenzetti</td>\n",
       "      <td>/en/pietro-lorenzetti/shaped-cross-1325</td>\n",
       "      <td>Wikiart/pietro-lorenzetti/shaped-cross-1325.jpg</td>\n",
       "      <td>1325</td>\n",
       "      <td>religious painting</td>\n",
       "    </tr>\n",
       "    <tr>\n",
       "      <th>The Crucifixion with the Virgin Mary and St John alberto sotio</th>\n",
       "      <td>alberto sotio</td>\n",
       "      <td>/en/alberto-sotio/the-crucifixion-with-the-vir...</td>\n",
       "      <td>Wikiart/alberto-sotio/the-crucifixion-with-the...</td>\n",
       "      <td>None</td>\n",
       "      <td>religious painting</td>\n",
       "    </tr>\n",
       "    <tr>\n",
       "      <th>The Miracle of the Child Attacked and Rescued by Augustine Novello simone martini</th>\n",
       "      <td>simone martini</td>\n",
       "      <td>/en/simone-martini/the-miracle-of-the-child-at...</td>\n",
       "      <td>Wikiart/simone-martini/the-miracle-of-the-chil...</td>\n",
       "      <td>1328</td>\n",
       "      <td>religious painting</td>\n",
       "    </tr>\n",
       "    <tr>\n",
       "      <th>The Mourning Virgin Mary 1180 90 alberto sotio</th>\n",
       "      <td>alberto sotio</td>\n",
       "      <td>/en/alberto-sotio/the-mourning-virgin-mary-118...</td>\n",
       "      <td>Wikiart/alberto-sotio/the-mourning-virgin-mary...</td>\n",
       "      <td>None</td>\n",
       "      <td>religious painting</td>\n",
       "    </tr>\n",
       "    <tr>\n",
       "      <th>Virgin and Child with Saints (Boston Polyptych) simone martini</th>\n",
       "      <td>simone martini</td>\n",
       "      <td>/en/simone-martini/virgin-and-child-with-saint...</td>\n",
       "      <td>Wikiart/simone-martini/virgin-and-child-with-s...</td>\n",
       "      <td>1325</td>\n",
       "      <td>religious painting</td>\n",
       "    </tr>\n",
       "  </tbody>\n",
       "</table>\n",
       "</div>"
      ],
      "text/plain": [
       "                                                               Artist  \\\n",
       "Coronation of the Virgin paolo veneziano              paolo veneziano   \n",
       "Crevole Madonna duccio                                         duccio   \n",
       "Crucifix pietro lorenzetti                          pietro lorenzetti   \n",
       "Doge Francesco Dandolo and His Wife Presented t...    paolo veneziano   \n",
       "Guidoriccio da Fogliano simone martini                 simone martini   \n",
       "Madonna Di Ambro alberto sotio                          alberto sotio   \n",
       "Madonna and Child (no. 593) duccio                             duccio   \n",
       "Madonna and Child duccio                                       duccio   \n",
       "Madonna and Child with Two Votaries paolo venez...    paolo veneziano   \n",
       "Madonna in Maesta alberto sotio                         alberto sotio   \n",
       "Madonna of Crevole duccio                                      duccio   \n",
       "Madonna of the Poppy paolo veneziano                  paolo veneziano   \n",
       "Maestà duccio                                                  duccio   \n",
       "Maestà simone martini                                  simone martini   \n",
       "Martyrdom of St. John and St. Paul alberto sotio        alberto sotio   \n",
       "Monument to the Doge Francesco Dandolo paolo ve...    paolo veneziano   \n",
       "Polyptych pietro lorenzetti                         pietro lorenzetti   \n",
       "Predella Panel. Hermits at the Fountain of Elij...  pietro lorenzetti   \n",
       "Predella Panel. St Albert Presents the Rule to ...  pietro lorenzetti   \n",
       "Saint Catherine of Alexandria Polyptych simone ...     simone martini   \n",
       "Shaped Cross pietro lorenzetti                      pietro lorenzetti   \n",
       "The Crucifixion with the Virgin Mary and St Joh...      alberto sotio   \n",
       "The Miracle of the Child Attacked and Rescued b...     simone martini   \n",
       "The Mourning Virgin Mary 1180 90 alberto sotio          alberto sotio   \n",
       "Virgin and Child with Saints (Boston Polyptych)...     simone martini   \n",
       "\n",
       "                                                                                             Link Ext  \\\n",
       "Coronation of the Virgin paolo veneziano            /en/paolo-veneziano/coronation-of-the-virgin-1324   \n",
       "Crevole Madonna duccio                                                     /en/duccio/crevole-madonna   \n",
       "Crucifix pietro lorenzetti                                             /en/pietro-lorenzetti/crucifix   \n",
       "Doge Francesco Dandolo and His Wife Presented t...  /en/paolo-veneziano/doge-francesco-dandolo-and...   \n",
       "Guidoriccio da Fogliano simone martini                /en/simone-martini/guidoriccio-da-fogliano-1328   \n",
       "Madonna Di Ambro alberto sotio                                     /en/alberto-sotio/madonna-di-ambro   \n",
       "Madonna and Child (no. 593) duccio                                /en/duccio/madonna-and-child-no-593   \n",
       "Madonna and Child duccio                                            /en/duccio/madonna-and-child-1305   \n",
       "Madonna and Child with Two Votaries paolo venez...  /en/paolo-veneziano/madonna-and-child-with-two...   \n",
       "Madonna in Maesta alberto sotio                                   /en/alberto-sotio/madonna-in-maesta   \n",
       "Madonna of Crevole duccio                                          /en/duccio/madonna-of-crevole-1284   \n",
       "Madonna of the Poppy paolo veneziano                    /en/paolo-veneziano/madonna-of-the-poppy-1325   \n",
       "Maestà duccio                                                                  /en/duccio/maesta-1280   \n",
       "Maestà simone martini                                                   /en/simone-martini/maest-1321   \n",
       "Martyrdom of St. John and St. Paul alberto sotio    /en/alberto-sotio/martyrdom-of-st-john-and-st-...   \n",
       "Monument to the Doge Francesco Dandolo paolo ve...  /en/paolo-veneziano/monument-to-the-doge-franc...   \n",
       "Polyptych pietro lorenzetti                                      /en/pietro-lorenzetti/polyptych-1320   \n",
       "Predella Panel. Hermits at the Fountain of Elij...  /en/pietro-lorenzetti/predella-panel-hermits-a...   \n",
       "Predella Panel. St Albert Presents the Rule to ...  /en/pietro-lorenzetti/predella-panel-st-albert...   \n",
       "Saint Catherine of Alexandria Polyptych simone ...  /en/simone-martini/saint-catherine-of-alexandr...   \n",
       "Shaped Cross pietro lorenzetti                                /en/pietro-lorenzetti/shaped-cross-1325   \n",
       "The Crucifixion with the Virgin Mary and St Joh...  /en/alberto-sotio/the-crucifixion-with-the-vir...   \n",
       "The Miracle of the Child Attacked and Rescued b...  /en/simone-martini/the-miracle-of-the-child-at...   \n",
       "The Mourning Virgin Mary 1180 90 alberto sotio      /en/alberto-sotio/the-mourning-virgin-mary-118...   \n",
       "Virgin and Child with Saints (Boston Polyptych)...  /en/simone-martini/virgin-and-child-with-saint...   \n",
       "\n",
       "                                                                                                 Path  \\\n",
       "Coronation of the Virgin paolo veneziano            Wikiart/paolo-veneziano/coronation-of-the-virg...   \n",
       "Crevole Madonna duccio                                             Wikiart/duccio/crevole-madonna.jpg   \n",
       "Crucifix pietro lorenzetti                                     Wikiart/pietro-lorenzetti/crucifix.jpg   \n",
       "Doge Francesco Dandolo and His Wife Presented t...  Wikiart/paolo-veneziano/doge-francesco-dandolo...   \n",
       "Guidoriccio da Fogliano simone martini              Wikiart/simone-martini/guidoriccio-da-fogliano...   \n",
       "Madonna Di Ambro alberto sotio                             Wikiart/alberto-sotio/madonna-di-ambro.jpg   \n",
       "Madonna and Child (no. 593) duccio                        Wikiart/duccio/madonna-and-child-no-593.jpg   \n",
       "Madonna and Child duccio                                    Wikiart/duccio/madonna-and-child-1305.jpg   \n",
       "Madonna and Child with Two Votaries paolo venez...  Wikiart/paolo-veneziano/madonna-and-child-with...   \n",
       "Madonna in Maesta alberto sotio                           Wikiart/alberto-sotio/madonna-in-maesta.jpg   \n",
       "Madonna of Crevole duccio                                  Wikiart/duccio/madonna-of-crevole-1284.jpg   \n",
       "Madonna of the Poppy paolo veneziano                Wikiart/paolo-veneziano/madonna-of-the-poppy-1...   \n",
       "Maestà duccio                                                          Wikiart/duccio/maesta-1280.jpg   \n",
       "Maestà simone martini                                           Wikiart/simone-martini/maest-1321.jpg   \n",
       "Martyrdom of St. John and St. Paul alberto sotio    Wikiart/alberto-sotio/martyrdom-of-st-john-and...   \n",
       "Monument to the Doge Francesco Dandolo paolo ve...  Wikiart/paolo-veneziano/monument-to-the-doge-f...   \n",
       "Polyptych pietro lorenzetti                              Wikiart/pietro-lorenzetti/polyptych-1320.jpg   \n",
       "Predella Panel. Hermits at the Fountain of Elij...  Wikiart/pietro-lorenzetti/predella-panel-hermi...   \n",
       "Predella Panel. St Albert Presents the Rule to ...  Wikiart/pietro-lorenzetti/predella-panel-st-al...   \n",
       "Saint Catherine of Alexandria Polyptych simone ...  Wikiart/simone-martini/saint-catherine-of-alex...   \n",
       "Shaped Cross pietro lorenzetti                        Wikiart/pietro-lorenzetti/shaped-cross-1325.jpg   \n",
       "The Crucifixion with the Virgin Mary and St Joh...  Wikiart/alberto-sotio/the-crucifixion-with-the...   \n",
       "The Miracle of the Child Attacked and Rescued b...  Wikiart/simone-martini/the-miracle-of-the-chil...   \n",
       "The Mourning Virgin Mary 1180 90 alberto sotio      Wikiart/alberto-sotio/the-mourning-virgin-mary...   \n",
       "Virgin and Child with Saints (Boston Polyptych)...  Wikiart/simone-martini/virgin-and-child-with-s...   \n",
       "\n",
       "                                                    Year               Genre  \n",
       "Coronation of the Virgin paolo veneziano            1324  religious painting  \n",
       "Crevole Madonna duccio                              1280  religious painting  \n",
       "Crucifix pietro lorenzetti                          1320  religious painting  \n",
       "Doge Francesco Dandolo and His Wife Presented t...  1339  religious painting  \n",
       "Guidoriccio da Fogliano simone martini              1328                None  \n",
       "Madonna Di Ambro alberto sotio                      None  religious painting  \n",
       "Madonna and Child (no. 593) duccio                  1280  religious painting  \n",
       "Madonna and Child duccio                            1305  religious painting  \n",
       "Madonna and Child with Two Votaries paolo venez...  1325  religious painting  \n",
       "Madonna in Maesta alberto sotio                     None  religious painting  \n",
       "Madonna of Crevole duccio                           1284  religious painting  \n",
       "Madonna of the Poppy paolo veneziano                1325  religious painting  \n",
       "Maestà duccio                                       1280  religious painting  \n",
       "Maestà simone martini                               1321  religious painting  \n",
       "Martyrdom of St. John and St. Paul alberto sotio    None  religious painting  \n",
       "Monument to the Doge Francesco Dandolo paolo ve...  1339  religious painting  \n",
       "Polyptych pietro lorenzetti                         1320  religious painting  \n",
       "Predella Panel. Hermits at the Fountain of Elij...  1329  religious painting  \n",
       "Predella Panel. St Albert Presents the Rule to ...  1329  religious painting  \n",
       "Saint Catherine of Alexandria Polyptych simone ...  1319  religious painting  \n",
       "Shaped Cross pietro lorenzetti                      1325  religious painting  \n",
       "The Crucifixion with the Virgin Mary and St Joh...  None  religious painting  \n",
       "The Miracle of the Child Attacked and Rescued b...  1328  religious painting  \n",
       "The Mourning Virgin Mary 1180 90 alberto sotio      None  religious painting  \n",
       "Virgin and Child with Saints (Boston Polyptych)...  1325  religious painting  "
      ]
     },
     "execution_count": 211,
     "metadata": {},
     "output_type": "execute_result"
    }
   ],
   "source": [
    "rel_paintDF"
   ]
  },
  {
   "cell_type": "code",
   "execution_count": 212,
   "metadata": {
    "collapsed": true
   },
   "outputs": [],
   "source": [
    "dRel_paintDF = rel_paintDF.dropna()"
   ]
  },
  {
   "cell_type": "code",
   "execution_count": 213,
   "metadata": {
    "collapsed": true
   },
   "outputs": [],
   "source": [
    "dRel_paintDF = dRel_paintDF.sort_values(by='Year', ascending=True)"
   ]
  },
  {
   "cell_type": "code",
   "execution_count": 214,
   "metadata": {},
   "outputs": [
    {
     "data": {
      "text/html": [
       "<div>\n",
       "<style>\n",
       "    .dataframe thead tr:only-child th {\n",
       "        text-align: right;\n",
       "    }\n",
       "\n",
       "    .dataframe thead th {\n",
       "        text-align: left;\n",
       "    }\n",
       "\n",
       "    .dataframe tbody tr th {\n",
       "        vertical-align: top;\n",
       "    }\n",
       "</style>\n",
       "<table border=\"1\" class=\"dataframe\">\n",
       "  <thead>\n",
       "    <tr style=\"text-align: right;\">\n",
       "      <th></th>\n",
       "      <th>Artist</th>\n",
       "      <th>Link Ext</th>\n",
       "      <th>Path</th>\n",
       "      <th>Year</th>\n",
       "      <th>Genre</th>\n",
       "    </tr>\n",
       "  </thead>\n",
       "  <tbody>\n",
       "    <tr>\n",
       "      <th>Maestà duccio</th>\n",
       "      <td>duccio</td>\n",
       "      <td>/en/duccio/maesta-1280</td>\n",
       "      <td>Wikiart/duccio/maesta-1280.jpg</td>\n",
       "      <td>1280</td>\n",
       "      <td>religious painting</td>\n",
       "    </tr>\n",
       "    <tr>\n",
       "      <th>Crevole Madonna duccio</th>\n",
       "      <td>duccio</td>\n",
       "      <td>/en/duccio/crevole-madonna</td>\n",
       "      <td>Wikiart/duccio/crevole-madonna.jpg</td>\n",
       "      <td>1280</td>\n",
       "      <td>religious painting</td>\n",
       "    </tr>\n",
       "    <tr>\n",
       "      <th>Madonna and Child (no. 593) duccio</th>\n",
       "      <td>duccio</td>\n",
       "      <td>/en/duccio/madonna-and-child-no-593</td>\n",
       "      <td>Wikiart/duccio/madonna-and-child-no-593.jpg</td>\n",
       "      <td>1280</td>\n",
       "      <td>religious painting</td>\n",
       "    </tr>\n",
       "    <tr>\n",
       "      <th>Madonna of Crevole duccio</th>\n",
       "      <td>duccio</td>\n",
       "      <td>/en/duccio/madonna-of-crevole-1284</td>\n",
       "      <td>Wikiart/duccio/madonna-of-crevole-1284.jpg</td>\n",
       "      <td>1284</td>\n",
       "      <td>religious painting</td>\n",
       "    </tr>\n",
       "    <tr>\n",
       "      <th>Madonna and Child duccio</th>\n",
       "      <td>duccio</td>\n",
       "      <td>/en/duccio/madonna-and-child-1305</td>\n",
       "      <td>Wikiart/duccio/madonna-and-child-1305.jpg</td>\n",
       "      <td>1305</td>\n",
       "      <td>religious painting</td>\n",
       "    </tr>\n",
       "    <tr>\n",
       "      <th>Saint Catherine of Alexandria Polyptych simone martini</th>\n",
       "      <td>simone martini</td>\n",
       "      <td>/en/simone-martini/saint-catherine-of-alexandr...</td>\n",
       "      <td>Wikiart/simone-martini/saint-catherine-of-alex...</td>\n",
       "      <td>1319</td>\n",
       "      <td>religious painting</td>\n",
       "    </tr>\n",
       "    <tr>\n",
       "      <th>Crucifix pietro lorenzetti</th>\n",
       "      <td>pietro lorenzetti</td>\n",
       "      <td>/en/pietro-lorenzetti/crucifix</td>\n",
       "      <td>Wikiart/pietro-lorenzetti/crucifix.jpg</td>\n",
       "      <td>1320</td>\n",
       "      <td>religious painting</td>\n",
       "    </tr>\n",
       "    <tr>\n",
       "      <th>Polyptych pietro lorenzetti</th>\n",
       "      <td>pietro lorenzetti</td>\n",
       "      <td>/en/pietro-lorenzetti/polyptych-1320</td>\n",
       "      <td>Wikiart/pietro-lorenzetti/polyptych-1320.jpg</td>\n",
       "      <td>1320</td>\n",
       "      <td>religious painting</td>\n",
       "    </tr>\n",
       "    <tr>\n",
       "      <th>Maestà simone martini</th>\n",
       "      <td>simone martini</td>\n",
       "      <td>/en/simone-martini/maest-1321</td>\n",
       "      <td>Wikiart/simone-martini/maest-1321.jpg</td>\n",
       "      <td>1321</td>\n",
       "      <td>religious painting</td>\n",
       "    </tr>\n",
       "    <tr>\n",
       "      <th>Coronation of the Virgin paolo veneziano</th>\n",
       "      <td>paolo veneziano</td>\n",
       "      <td>/en/paolo-veneziano/coronation-of-the-virgin-1324</td>\n",
       "      <td>Wikiart/paolo-veneziano/coronation-of-the-virg...</td>\n",
       "      <td>1324</td>\n",
       "      <td>religious painting</td>\n",
       "    </tr>\n",
       "    <tr>\n",
       "      <th>Madonna of the Poppy paolo veneziano</th>\n",
       "      <td>paolo veneziano</td>\n",
       "      <td>/en/paolo-veneziano/madonna-of-the-poppy-1325</td>\n",
       "      <td>Wikiart/paolo-veneziano/madonna-of-the-poppy-1...</td>\n",
       "      <td>1325</td>\n",
       "      <td>religious painting</td>\n",
       "    </tr>\n",
       "    <tr>\n",
       "      <th>Madonna and Child with Two Votaries paolo veneziano</th>\n",
       "      <td>paolo veneziano</td>\n",
       "      <td>/en/paolo-veneziano/madonna-and-child-with-two...</td>\n",
       "      <td>Wikiart/paolo-veneziano/madonna-and-child-with...</td>\n",
       "      <td>1325</td>\n",
       "      <td>religious painting</td>\n",
       "    </tr>\n",
       "    <tr>\n",
       "      <th>Shaped Cross pietro lorenzetti</th>\n",
       "      <td>pietro lorenzetti</td>\n",
       "      <td>/en/pietro-lorenzetti/shaped-cross-1325</td>\n",
       "      <td>Wikiart/pietro-lorenzetti/shaped-cross-1325.jpg</td>\n",
       "      <td>1325</td>\n",
       "      <td>religious painting</td>\n",
       "    </tr>\n",
       "    <tr>\n",
       "      <th>Virgin and Child with Saints (Boston Polyptych) simone martini</th>\n",
       "      <td>simone martini</td>\n",
       "      <td>/en/simone-martini/virgin-and-child-with-saint...</td>\n",
       "      <td>Wikiart/simone-martini/virgin-and-child-with-s...</td>\n",
       "      <td>1325</td>\n",
       "      <td>religious painting</td>\n",
       "    </tr>\n",
       "    <tr>\n",
       "      <th>The Miracle of the Child Attacked and Rescued by Augustine Novello simone martini</th>\n",
       "      <td>simone martini</td>\n",
       "      <td>/en/simone-martini/the-miracle-of-the-child-at...</td>\n",
       "      <td>Wikiart/simone-martini/the-miracle-of-the-chil...</td>\n",
       "      <td>1328</td>\n",
       "      <td>religious painting</td>\n",
       "    </tr>\n",
       "    <tr>\n",
       "      <th>Predella Panel. Hermits at the Fountain of Elijah pietro lorenzetti</th>\n",
       "      <td>pietro lorenzetti</td>\n",
       "      <td>/en/pietro-lorenzetti/predella-panel-hermits-a...</td>\n",
       "      <td>Wikiart/pietro-lorenzetti/predella-panel-hermi...</td>\n",
       "      <td>1329</td>\n",
       "      <td>religious painting</td>\n",
       "    </tr>\n",
       "    <tr>\n",
       "      <th>Predella Panel. St Albert Presents the Rule to the Carmelites pietro lorenzetti</th>\n",
       "      <td>pietro lorenzetti</td>\n",
       "      <td>/en/pietro-lorenzetti/predella-panel-st-albert...</td>\n",
       "      <td>Wikiart/pietro-lorenzetti/predella-panel-st-al...</td>\n",
       "      <td>1329</td>\n",
       "      <td>religious painting</td>\n",
       "    </tr>\n",
       "    <tr>\n",
       "      <th>Monument to the Doge Francesco Dandolo paolo veneziano</th>\n",
       "      <td>paolo veneziano</td>\n",
       "      <td>/en/paolo-veneziano/monument-to-the-doge-franc...</td>\n",
       "      <td>Wikiart/paolo-veneziano/monument-to-the-doge-f...</td>\n",
       "      <td>1339</td>\n",
       "      <td>religious painting</td>\n",
       "    </tr>\n",
       "    <tr>\n",
       "      <th>Doge Francesco Dandolo and His Wife Presented to the Madonna paolo veneziano</th>\n",
       "      <td>paolo veneziano</td>\n",
       "      <td>/en/paolo-veneziano/doge-francesco-dandolo-and...</td>\n",
       "      <td>Wikiart/paolo-veneziano/doge-francesco-dandolo...</td>\n",
       "      <td>1339</td>\n",
       "      <td>religious painting</td>\n",
       "    </tr>\n",
       "  </tbody>\n",
       "</table>\n",
       "</div>"
      ],
      "text/plain": [
       "                                                               Artist  \\\n",
       "Maestà duccio                                                  duccio   \n",
       "Crevole Madonna duccio                                         duccio   \n",
       "Madonna and Child (no. 593) duccio                             duccio   \n",
       "Madonna of Crevole duccio                                      duccio   \n",
       "Madonna and Child duccio                                       duccio   \n",
       "Saint Catherine of Alexandria Polyptych simone ...     simone martini   \n",
       "Crucifix pietro lorenzetti                          pietro lorenzetti   \n",
       "Polyptych pietro lorenzetti                         pietro lorenzetti   \n",
       "Maestà simone martini                                  simone martini   \n",
       "Coronation of the Virgin paolo veneziano              paolo veneziano   \n",
       "Madonna of the Poppy paolo veneziano                  paolo veneziano   \n",
       "Madonna and Child with Two Votaries paolo venez...    paolo veneziano   \n",
       "Shaped Cross pietro lorenzetti                      pietro lorenzetti   \n",
       "Virgin and Child with Saints (Boston Polyptych)...     simone martini   \n",
       "The Miracle of the Child Attacked and Rescued b...     simone martini   \n",
       "Predella Panel. Hermits at the Fountain of Elij...  pietro lorenzetti   \n",
       "Predella Panel. St Albert Presents the Rule to ...  pietro lorenzetti   \n",
       "Monument to the Doge Francesco Dandolo paolo ve...    paolo veneziano   \n",
       "Doge Francesco Dandolo and His Wife Presented t...    paolo veneziano   \n",
       "\n",
       "                                                                                             Link Ext  \\\n",
       "Maestà duccio                                                                  /en/duccio/maesta-1280   \n",
       "Crevole Madonna duccio                                                     /en/duccio/crevole-madonna   \n",
       "Madonna and Child (no. 593) duccio                                /en/duccio/madonna-and-child-no-593   \n",
       "Madonna of Crevole duccio                                          /en/duccio/madonna-of-crevole-1284   \n",
       "Madonna and Child duccio                                            /en/duccio/madonna-and-child-1305   \n",
       "Saint Catherine of Alexandria Polyptych simone ...  /en/simone-martini/saint-catherine-of-alexandr...   \n",
       "Crucifix pietro lorenzetti                                             /en/pietro-lorenzetti/crucifix   \n",
       "Polyptych pietro lorenzetti                                      /en/pietro-lorenzetti/polyptych-1320   \n",
       "Maestà simone martini                                                   /en/simone-martini/maest-1321   \n",
       "Coronation of the Virgin paolo veneziano            /en/paolo-veneziano/coronation-of-the-virgin-1324   \n",
       "Madonna of the Poppy paolo veneziano                    /en/paolo-veneziano/madonna-of-the-poppy-1325   \n",
       "Madonna and Child with Two Votaries paolo venez...  /en/paolo-veneziano/madonna-and-child-with-two...   \n",
       "Shaped Cross pietro lorenzetti                                /en/pietro-lorenzetti/shaped-cross-1325   \n",
       "Virgin and Child with Saints (Boston Polyptych)...  /en/simone-martini/virgin-and-child-with-saint...   \n",
       "The Miracle of the Child Attacked and Rescued b...  /en/simone-martini/the-miracle-of-the-child-at...   \n",
       "Predella Panel. Hermits at the Fountain of Elij...  /en/pietro-lorenzetti/predella-panel-hermits-a...   \n",
       "Predella Panel. St Albert Presents the Rule to ...  /en/pietro-lorenzetti/predella-panel-st-albert...   \n",
       "Monument to the Doge Francesco Dandolo paolo ve...  /en/paolo-veneziano/monument-to-the-doge-franc...   \n",
       "Doge Francesco Dandolo and His Wife Presented t...  /en/paolo-veneziano/doge-francesco-dandolo-and...   \n",
       "\n",
       "                                                                                                 Path  \\\n",
       "Maestà duccio                                                          Wikiart/duccio/maesta-1280.jpg   \n",
       "Crevole Madonna duccio                                             Wikiart/duccio/crevole-madonna.jpg   \n",
       "Madonna and Child (no. 593) duccio                        Wikiart/duccio/madonna-and-child-no-593.jpg   \n",
       "Madonna of Crevole duccio                                  Wikiart/duccio/madonna-of-crevole-1284.jpg   \n",
       "Madonna and Child duccio                                    Wikiart/duccio/madonna-and-child-1305.jpg   \n",
       "Saint Catherine of Alexandria Polyptych simone ...  Wikiart/simone-martini/saint-catherine-of-alex...   \n",
       "Crucifix pietro lorenzetti                                     Wikiart/pietro-lorenzetti/crucifix.jpg   \n",
       "Polyptych pietro lorenzetti                              Wikiart/pietro-lorenzetti/polyptych-1320.jpg   \n",
       "Maestà simone martini                                           Wikiart/simone-martini/maest-1321.jpg   \n",
       "Coronation of the Virgin paolo veneziano            Wikiart/paolo-veneziano/coronation-of-the-virg...   \n",
       "Madonna of the Poppy paolo veneziano                Wikiart/paolo-veneziano/madonna-of-the-poppy-1...   \n",
       "Madonna and Child with Two Votaries paolo venez...  Wikiart/paolo-veneziano/madonna-and-child-with...   \n",
       "Shaped Cross pietro lorenzetti                        Wikiart/pietro-lorenzetti/shaped-cross-1325.jpg   \n",
       "Virgin and Child with Saints (Boston Polyptych)...  Wikiart/simone-martini/virgin-and-child-with-s...   \n",
       "The Miracle of the Child Attacked and Rescued b...  Wikiart/simone-martini/the-miracle-of-the-chil...   \n",
       "Predella Panel. Hermits at the Fountain of Elij...  Wikiart/pietro-lorenzetti/predella-panel-hermi...   \n",
       "Predella Panel. St Albert Presents the Rule to ...  Wikiart/pietro-lorenzetti/predella-panel-st-al...   \n",
       "Monument to the Doge Francesco Dandolo paolo ve...  Wikiart/paolo-veneziano/monument-to-the-doge-f...   \n",
       "Doge Francesco Dandolo and His Wife Presented t...  Wikiart/paolo-veneziano/doge-francesco-dandolo...   \n",
       "\n",
       "                                                    Year               Genre  \n",
       "Maestà duccio                                       1280  religious painting  \n",
       "Crevole Madonna duccio                              1280  religious painting  \n",
       "Madonna and Child (no. 593) duccio                  1280  religious painting  \n",
       "Madonna of Crevole duccio                           1284  religious painting  \n",
       "Madonna and Child duccio                            1305  religious painting  \n",
       "Saint Catherine of Alexandria Polyptych simone ...  1319  religious painting  \n",
       "Crucifix pietro lorenzetti                          1320  religious painting  \n",
       "Polyptych pietro lorenzetti                         1320  religious painting  \n",
       "Maestà simone martini                               1321  religious painting  \n",
       "Coronation of the Virgin paolo veneziano            1324  religious painting  \n",
       "Madonna of the Poppy paolo veneziano                1325  religious painting  \n",
       "Madonna and Child with Two Votaries paolo venez...  1325  religious painting  \n",
       "Shaped Cross pietro lorenzetti                      1325  religious painting  \n",
       "Virgin and Child with Saints (Boston Polyptych)...  1325  religious painting  \n",
       "The Miracle of the Child Attacked and Rescued b...  1328  religious painting  \n",
       "Predella Panel. Hermits at the Fountain of Elij...  1329  religious painting  \n",
       "Predella Panel. St Albert Presents the Rule to ...  1329  religious painting  \n",
       "Monument to the Doge Francesco Dandolo paolo ve...  1339  religious painting  \n",
       "Doge Francesco Dandolo and His Wife Presented t...  1339  religious painting  "
      ]
     },
     "execution_count": 214,
     "metadata": {},
     "output_type": "execute_result"
    }
   ],
   "source": [
    "dRel_paintDF"
   ]
  },
  {
   "cell_type": "code",
   "execution_count": 215,
   "metadata": {
    "collapsed": true
   },
   "outputs": [],
   "source": [
    "dRel_paintDF.to_csv('rel_paint.csv', encoding='utf-8')"
   ]
  },
  {
   "cell_type": "code",
   "execution_count": 217,
   "metadata": {},
   "outputs": [
    {
     "name": "stdout",
     "output_type": "stream",
     "text": [
      "Wikiart/duccio/maesta-1280.jpg\n",
      "Wikiart/duccio/crevole-madonna.jpg\n",
      "Wikiart/duccio/madonna-and-child-no-593.jpg\n",
      "Wikiart/duccio/madonna-of-crevole-1284.jpg\n",
      "Wikiart/duccio/madonna-and-child-1305.jpg\n",
      "Wikiart/simone-martini/saint-catherine-of-alexandria-polyptych-1319.jpg\n",
      "Wikiart/pietro-lorenzetti/crucifix.jpg\n",
      "Wikiart/pietro-lorenzetti/polyptych-1320.jpg\n",
      "Wikiart/simone-martini/maest-1321.jpg\n",
      "Wikiart/paolo-veneziano/coronation-of-the-virgin-1324.jpg\n",
      "Wikiart/paolo-veneziano/madonna-of-the-poppy-1325.jpg\n",
      "Wikiart/paolo-veneziano/madonna-and-child-with-two-votaries-1325.jpg\n",
      "Wikiart/pietro-lorenzetti/shaped-cross-1325.jpg\n",
      "Wikiart/simone-martini/virgin-and-child-with-saints-boston-polyptych-1325.jpg\n",
      "Wikiart/simone-martini/the-miracle-of-the-child-attacked-and-rescued-by-augustine-novello-1328.jpg\n",
      "Wikiart/pietro-lorenzetti/predella-panel-hermits-at-the-fountain-of-elijah-1329.jpg\n",
      "Wikiart/pietro-lorenzetti/predella-panel-st-albert-presents-the-rule-to-the-carmelites-1329.jpg\n",
      "Wikiart/paolo-veneziano/monument-to-the-doge-francesco-dandolo-1339.jpg\n",
      "Wikiart/paolo-veneziano/doge-francesco-dandolo-and-his-wife-presented-to-the-madonna-1339.jpg\n"
     ]
    }
   ],
   "source": [
    "for index, row in dRel_paintDF.iterrows():\n",
    "    print(row['Path'])"
   ]
  },
  {
   "cell_type": "code",
   "execution_count": 287,
   "metadata": {},
   "outputs": [
    {
     "data": {
      "text/plain": [
       "74359"
      ]
     },
     "execution_count": 287,
     "metadata": {},
     "output_type": "execute_result"
    }
   ],
   "source": [
    "import json\n",
    "l = \"https://www.wikiart.org/en/alberto-sotio/all-works\"\n",
    "\n",
    "\n",
    "page = urllib.request.urlopen(l).read()\n",
    "soup = BeautifulSoup(page, 'html5lib')\n"
   ]
  },
  {
   "cell_type": "code",
   "execution_count": 292,
   "metadata": {
    "collapsed": true
   },
   "outputs": [],
   "source": [
    "x = soup.get_text().find(\"title-block\")"
   ]
  },
  {
   "cell_type": "code",
   "execution_count": 294,
   "metadata": {},
   "outputs": [
    {
     "data": {
      "text/plain": [
       "'ay{}.wiki-masonry-container>li .supersized-hover-container{display:none}.wiki-masonry-container>li .title-block .like-overlay{display:none}@media(min-'"
      ]
     },
     "execution_count": 294,
     "metadata": {},
     "output_type": "execute_result"
    }
   ],
   "source": [
    "soup.get_text()[x-100:x+50]"
   ]
  },
  {
   "cell_type": "code",
   "execution_count": 304,
   "metadata": {},
   "outputs": [
    {
     "data": {
      "text/plain": [
       "[<ul class=\"wiki-masonry-container\" masonry-items=\"paintingsToDisplay\" masonry-options=\"options\" masonry-view=\"\">\n",
       "             </ul>]"
      ]
     },
     "execution_count": 304,
     "metadata": {},
     "output_type": "execute_result"
    }
   ],
   "source": [
    "soup.find_all('ul', attrs ={'class': 'wiki-masonry-container'})"
   ]
  },
  {
   "cell_type": "code",
   "execution_count": 303,
   "metadata": {},
   "outputs": [
    {
     "data": {
      "text/plain": [
       "[]"
      ]
     },
     "execution_count": 303,
     "metadata": {},
     "output_type": "execute_result"
    }
   ],
   "source": [
    "soup.select('.title-block')"
   ]
  },
  {
   "cell_type": "code",
   "execution_count": 309,
   "metadata": {},
   "outputs": [
    {
     "data": {
      "text/plain": [
       "array(2)"
      ]
     },
     "execution_count": 309,
     "metadata": {},
     "output_type": "execute_result"
    }
   ],
   "source": [
    "np.array(2)"
   ]
  },
  {
   "cell_type": "code",
   "execution_count": null,
   "metadata": {
    "collapsed": true
   },
   "outputs": [],
   "source": []
  }
 ],
 "metadata": {
  "kernelspec": {
   "display_name": "Python 3",
   "language": "python",
   "name": "python3"
  },
  "language_info": {
   "codemirror_mode": {
    "name": "ipython",
    "version": 3
   },
   "file_extension": ".py",
   "mimetype": "text/x-python",
   "name": "python",
   "nbconvert_exporter": "python",
   "pygments_lexer": "ipython3",
   "version": "3.6.1"
  }
 },
 "nbformat": 4,
 "nbformat_minor": 2
}
