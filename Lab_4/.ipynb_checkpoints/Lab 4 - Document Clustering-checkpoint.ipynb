{
 "cells": [
  {
   "cell_type": "markdown",
   "metadata": {},
   "source": [
    "# CSCI 270 - Computational Humanities - Spring 2018 \n",
    "# Lab 4 - Document Clustering"
   ]
  },
  {
   "cell_type": "code",
   "execution_count": 2,
   "metadata": {
    "collapsed": true
   },
   "outputs": [],
   "source": [
    "from scipy.cluster import hierarchy\n",
    "import numpy as np\n",
    "import matplotlib.pyplot as plt\n",
    "import random\n",
    "import math\n",
    "import os\n",
    "import re"
   ]
  },
  {
   "cell_type": "markdown",
   "metadata": {},
   "source": [
    "# Setup - Load data from files\n",
    "\n",
    "Here we load the data into a list of strings. These strings have only lowercase words and whitespace. Also, we keep a separate list of the titles of each document."
   ]
  },
  {
   "cell_type": "code",
   "execution_count": 486,
   "metadata": {
    "collapsed": true
   },
   "outputs": [],
   "source": [
    "documents = [\n",
    "\"wet snow falls in winter snow falls\",\n",
    "\"cold and wet in winter\",\n",
    "\"cold wet snow packs best best\",\n",
    "\"cold snow is cold and wet\"]\n",
    "\n",
    "filenames = [\"A\", \"B\", \"C\", \"D\"]"
   ]
  },
  {
   "cell_type": "code",
   "execution_count": 487,
   "metadata": {
    "collapsed": true
   },
   "outputs": [],
   "source": [
    "######\n",
    "# Uncomment this section for loading in the documents, replacing \n",
    "# WheelOfTime with Poems or Books\n",
    "######\n",
    "\n",
    "# filedir = \"Poems\"\n",
    "# documents = []\n",
    "# filenames = []\n",
    "# for f in os.listdir(filedir):\n",
    "#     if f.endswith(\".txt\"):\n",
    "#         filenames.append(f[:-4].replace(\"_\", \" \"))\n",
    "#         fopen = open(filedir + \"/\" + f)\n",
    "#         documents.append(re.sub(r'[^\\w\\s]', '', fopen.read().lower().replace(\"\\n\", \" \")))"
   ]
  },
  {
   "cell_type": "markdown",
   "metadata": {},
   "source": [
    "# Part 1 - Finding tf-idf matrix\n",
    "\n",
    "Write a function to find the term frequencies for all documents. It should return a dictionary, where the key is the name of the file, and the value is a dictionary of term frequency counts."
   ]
  },
  {
   "cell_type": "code",
   "execution_count": 488,
   "metadata": {
    "collapsed": true
   },
   "outputs": [],
   "source": [
    "def term_freqs(text, names):\n",
    "    docsDict = {}\n",
    "\n",
    "    ## WRITE ME ##\n",
    "    for i in range(len(text)):\n",
    "        docDict = {}\n",
    "\n",
    "        words = text[i].split()\n",
    "        for word in words:\n",
    "            docDict[word] = docDict.get(word, 0) + 1\n",
    "        \n",
    "        docsDict[names[i]] = docDict\n",
    "    return docsDict"
   ]
  },
  {
   "cell_type": "code",
   "execution_count": 489,
   "metadata": {},
   "outputs": [
    {
     "data": {
      "text/plain": [
       "{'A': {'falls': 2, 'in': 1, 'snow': 2, 'wet': 1, 'winter': 1},\n",
       " 'B': {'and': 1, 'cold': 1, 'in': 1, 'wet': 1, 'winter': 1},\n",
       " 'C': {'best': 2, 'cold': 1, 'packs': 1, 'snow': 1, 'wet': 1},\n",
       " 'D': {'and': 1, 'cold': 2, 'is': 1, 'snow': 1, 'wet': 1}}"
      ]
     },
     "execution_count": 489,
     "metadata": {},
     "output_type": "execute_result"
    }
   ],
   "source": [
    "tf = term_freqs(documents, filenames)\n",
    "tf"
   ]
  },
  {
   "cell_type": "markdown",
   "metadata": {},
   "source": [
    "Write a function to return a list of all words in the corpus without duplicates. To facilitate fast lookup when checking for uniqueness, use the $set()$ class."
   ]
  },
  {
   "cell_type": "code",
   "execution_count": 490,
   "metadata": {
    "collapsed": true
   },
   "outputs": [],
   "source": [
    "def all_terms(text):\n",
    "    wordSet = set()\n",
    "\n",
    "    ## WRITE ME ##\n",
    "    for doc in text:\n",
    "        words = doc.split()\n",
    "        for word in words:\n",
    "            wordSet.add(word)\n",
    "            \n",
    "    return wordSet"
   ]
  },
  {
   "cell_type": "code",
   "execution_count": 491,
   "metadata": {},
   "outputs": [
    {
     "data": {
      "text/plain": [
       "{'and', 'best', 'cold', 'falls', 'in', 'is', 'packs', 'snow', 'wet', 'winter'}"
      ]
     },
     "execution_count": 491,
     "metadata": {},
     "output_type": "execute_result"
    }
   ],
   "source": [
    "terms = all_terms(documents)\n",
    "terms"
   ]
  },
  {
   "cell_type": "markdown",
   "metadata": {},
   "source": [
    "Write a function to return a dictionary where the keys are the words in the corpus and the values are the inverse document frequency for that term. Again, to make this efficient, make use of the $set()$ class.\n",
    "\n",
    "$$idf(t, D) = \\frac{N}{|\\{d \\in D : t \\in d\\}|}$$"
   ]
  },
  {
   "cell_type": "code",
   "execution_count": 492,
   "metadata": {
    "collapsed": true
   },
   "outputs": [],
   "source": [
    "def inv_doc_freqs(text, terms):\n",
    "    docFreqs = dict((t, 0) for t in terms)\n",
    "    ## WRITE ME ##\n",
    "    for doc in text:\n",
    "        words = set(doc.split())\n",
    "        \n",
    "        for word in words:\n",
    "            docFreqs[word] = docFreqs.get(word, 0) + 1\n",
    "#         for word in words:\n",
    "#             docFreqs[word] = docFreqs.get(word, 0) + 1\n",
    "#             print(docFreqs)\n",
    "            \n",
    "    for key in docFreqs.keys():\n",
    "        docFreqs[key] = math.log(len(text)/docFreqs.get(key, 0))\n",
    "    return docFreqs\n",
    "    "
   ]
  },
  {
   "cell_type": "code",
   "execution_count": null,
   "metadata": {},
   "outputs": [],
   "source": []
  },
  {
   "cell_type": "code",
   "execution_count": 493,
   "metadata": {},
   "outputs": [
    {
     "data": {
      "text/plain": [
       "{'and': 0.6931471805599453,\n",
       " 'best': 1.3862943611198906,\n",
       " 'cold': 0.28768207245178085,\n",
       " 'falls': 1.3862943611198906,\n",
       " 'in': 0.6931471805599453,\n",
       " 'is': 1.3862943611198906,\n",
       " 'packs': 1.3862943611198906,\n",
       " 'snow': 0.28768207245178085,\n",
       " 'wet': 0.0,\n",
       " 'winter': 0.6931471805599453}"
      ]
     },
     "execution_count": 493,
     "metadata": {},
     "output_type": "execute_result"
    }
   ],
   "source": [
    "idf = inv_doc_freqs(documents, terms)\n",
    "idf"
   ]
  },
  {
   "cell_type": "markdown",
   "metadata": {},
   "source": [
    "Write a function that returns a 2D matrix, with a column for each word in the corpus, and a row for each document in the corpus. The values for a row and column will be the tf-idf score for that word in that document."
   ]
  },
  {
   "cell_type": "code",
   "execution_count": 494,
   "metadata": {
    "collapsed": true
   },
   "outputs": [],
   "source": [
    "def find_tfidf(tf, idf, terms):\n",
    "    docTFIDF = []\n",
    "    for doc in tf:\n",
    "        docDict = tf[doc]\n",
    "        docF = []\n",
    "        for term in terms:\n",
    "            docF.append((docDict.get(term, 0) * idf[term]))\n",
    "        docTFIDF.append(docF)    \n",
    "    return docTFIDF\n",
    "\n",
    "    ## WRITE ME ##"
   ]
  },
  {
   "cell_type": "code",
   "execution_count": 495,
   "metadata": {},
   "outputs": [],
   "source": [
    "tfidf = find_tfidf(tf, idf, terms)"
   ]
  },
  {
   "cell_type": "markdown",
   "metadata": {},
   "source": [
    "The function below will print our small Snow matrix in a readable format. This function will be useless on the larger datasets with many unique words, and should be commented out."
   ]
  },
  {
   "cell_type": "code",
   "execution_count": 496,
   "metadata": {},
   "outputs": [
    {
     "name": "stdout",
     "output_type": "stream",
     "text": [
      "   and    wet    winter packs  cold   falls  best   is     in     snow   \n",
      "A: 0.000  0.000  0.693  0.000  0.000  2.773  0.000  0.000  0.693  0.575  \n",
      "B: 0.693  0.000  0.693  0.000  0.288  0.000  0.000  0.000  0.693  0.000  \n",
      "C: 0.000  0.000  0.000  1.386  0.288  0.000  2.773  0.000  0.000  0.288  \n",
      "D: 0.693  0.000  0.000  0.000  0.575  0.000  0.000  1.386  0.000  0.288  \n"
     ]
    }
   ],
   "source": [
    "def pretty_matrix(col_head, row_head, matrix):\n",
    "    top = \"   \"\n",
    "    for t in col_head:\n",
    "        top += '{:7s}'.format(t)\n",
    "    print(top)\n",
    "    for i in range(len(matrix)):\n",
    "        d = matrix[i]\n",
    "        s = row_head[i] + \": \"\n",
    "        for f in d:\n",
    "            s += '{:5.3f}'.format(f) + \"  \"\n",
    "        print(s)\n",
    "        \n",
    "pretty_matrix(terms, filenames, tfidf)"
   ]
  },
  {
   "cell_type": "markdown",
   "metadata": {},
   "source": [
    "# Part 2 - Distance Matrix and Cosine Similarity"
   ]
  },
  {
   "cell_type": "markdown",
   "metadata": {},
   "source": [
    "Write a function to calculate the dot product of two vectors $\\bf{a}$ and $\\bf{b}$.\n",
    "\n",
    "$$\\mathbf{a} \\cdot \\mathbf{b} = \\sum_{i=1}^{n} a_ib_i$$"
   ]
  },
  {
   "cell_type": "code",
   "execution_count": 497,
   "metadata": {
    "collapsed": true
   },
   "outputs": [],
   "source": [
    "def dot_product(a, b):\n",
    "\n",
    "    ## WRITE ME ##\n",
    "    return sum([i*k for (i, k) in zip(a, b)])"
   ]
  },
  {
   "cell_type": "code",
   "execution_count": 498,
   "metadata": {},
   "outputs": [
    {
     "name": "stdout",
     "output_type": "stream",
     "text": [
      "56\n",
      "32\n",
      "6\n",
      "10\n",
      "0\n"
     ]
    }
   ],
   "source": [
    "print(dot_product([1, 2, 3], [4, 8, 12]))\n",
    "print(dot_product([1, 2, 3], [4, 5, 6]))\n",
    "print(dot_product([1, 2, 3], [1, 1, 1]))\n",
    "print(dot_product([1, 2, 3], [3, 2, 1]))\n",
    "print(dot_product([3, 0, 3], [0, 3, 0]))"
   ]
  },
  {
   "cell_type": "markdown",
   "metadata": {},
   "source": [
    "Write a function to calculate the cosine similarity of two vectors $\\bf{a}$ and $\\bf{b}$.\n",
    "\n",
    "$$cos(\\theta) = \\frac{\\mathbf{a} \\cdot \\mathbf{b}}{||\\mathbf{a}||~||\\mathbf{b}||}$$\n",
    "\n",
    "where \n",
    "\n",
    "$$||\\mathbf{a}|| = \\sqrt{\\mathbf{a} \\cdot \\mathbf{a}}$$"
   ]
  },
  {
   "cell_type": "code",
   "execution_count": 499,
   "metadata": {
    "collapsed": true
   },
   "outputs": [],
   "source": [
    "def cosine_sim(a, b):\n",
    "\n",
    "    ## WRITE ME ##\n",
    "    return (dot_product(a, b) / (math.sqrt(dot_product(a, a)) * math.sqrt(dot_product(b, b))))"
   ]
  },
  {
   "cell_type": "code",
   "execution_count": 500,
   "metadata": {},
   "outputs": [
    {
     "name": "stdout",
     "output_type": "stream",
     "text": [
      "1.0\n",
      "0.9746318461970762\n",
      "0.9258200997725515\n",
      "0.7142857142857143\n",
      "0.0\n"
     ]
    }
   ],
   "source": [
    "print(cosine_sim([1, 2, 3], [4, 8, 12]))\n",
    "print(cosine_sim([1, 2, 3], [4, 5, 6]))\n",
    "print(cosine_sim([1, 2, 3], [1, 1, 1]))\n",
    "print(cosine_sim([1, 2, 3], [3, 2, 1]))\n",
    "print(cosine_sim([3, 0, 3], [0, 3, 0]))"
   ]
  },
  {
   "cell_type": "markdown",
   "metadata": {},
   "source": [
    "Write a function to calculate the distance matrix between all row vectors in our tf-idf matrix. The distance should be $1-cosine\\_sim$."
   ]
  },
  {
   "cell_type": "code",
   "execution_count": 501,
   "metadata": {},
   "outputs": [],
   "source": [
    "def dist_matrix(vecs):\n",
    "    # Need to find a good function to iterate all possible combos of docs\n",
    "\n",
    "    ## WRITE ME ##\n",
    "    mat = []\n",
    "    for i in range(len(vecs)):\n",
    "        row = []\n",
    "        for j in range(len(vecs)):\n",
    "            row.append(1 - cosine_sim(vecs[i], vecs[j]))\n",
    "        mat.append(row)\n",
    "        \n",
    "    return mat"
   ]
  },
  {
   "cell_type": "code",
   "execution_count": 839,
   "metadata": {},
   "outputs": [
    {
     "name": "stdout",
     "output_type": "stream",
     "text": [
      "   A      B      C      D      \n",
      "A: 0.000  0.740  0.982  0.967  \n",
      "B: 0.740  0.000  0.979  0.688  \n",
      "C: 0.982  0.979  0.000  0.953  \n",
      "D: 0.967  0.688  0.953  -0.000  \n"
     ]
    }
   ],
   "source": [
    "dmat = dist_matrix(tfidf)\n",
    "pretty_matrix(filenames, filenames, dmat)"
   ]
  },
  {
   "cell_type": "markdown",
   "metadata": {},
   "source": [
    "# Part 3 - Clustering with UPGMA"
   ]
  },
  {
   "cell_type": "markdown",
   "metadata": {},
   "source": [
    "Write a function to calculate the nearest pair of documents when given a matrix of distances between them. The function should return a tuple listing the index of the first document, the index of the second document, and their distance."
   ]
  },
  {
   "cell_type": "code",
   "execution_count": 855,
   "metadata": {
    "collapsed": true
   },
   "outputs": [],
   "source": [
    "def nearest(matrix):\n",
    "\n",
    "    ## WRITE ME ##\n",
    "    \n",
    "    nearest = (0, 0, 1)\n",
    "    for i in range(len(matrix)):\n",
    "        for j in range(len(matrix)):\n",
    "            if matrix[i][j] > 2.0e-12:\n",
    "                #print(i, j, matrix[i][j])\n",
    "                if matrix[i][j] < nearest[2]:\n",
    "                    #print(matrix[i][j])\n",
    "                    nearest = (i, j, matrix[i][j])\n",
    "                \n",
    "    return nearest\n",
    "\n",
    "# this may not be the most efficient, but ill look into it if it causes \n",
    "# issues"
   ]
  },
  {
   "cell_type": "code",
   "execution_count": 856,
   "metadata": {},
   "outputs": [
    {
     "data": {
      "text/plain": [
       "(1, 3, 0.6881940602419325)"
      ]
     },
     "execution_count": 856,
     "metadata": {},
     "output_type": "execute_result"
    }
   ],
   "source": [
    "nearest(dmat)"
   ]
  },
  {
   "cell_type": "markdown",
   "metadata": {},
   "source": [
    "Clusters are defined by a list with 4 values:\n",
    "\n",
    "* index of first child\n",
    "* index of second child\n",
    "* distance between children\n",
    "* number of documents in the cluster\n",
    "\n",
    "This is a function to create the list of initial clusters for the leaves in our tree. We have one cluster for each of our original documents."
   ]
  },
  {
   "cell_type": "code",
   "execution_count": 505,
   "metadata": {
    "collapsed": true
   },
   "outputs": [],
   "source": [
    "def init_clusters(matrix):\n",
    "    clusters = []\n",
    "    for i in range(len(matrix)):\n",
    "        clusters.append([i, i, 0, 1])\n",
    "    return clusters"
   ]
  },
  {
   "cell_type": "code",
   "execution_count": 506,
   "metadata": {},
   "outputs": [
    {
     "data": {
      "text/plain": [
       "[[0, 0, 0, 1], [1, 1, 0, 1], [2, 2, 0, 1], [3, 3, 0, 1]]"
      ]
     },
     "execution_count": 506,
     "metadata": {},
     "output_type": "execute_result"
    }
   ],
   "source": [
    "c = init_clusters(dmat)\n",
    "c"
   ]
  },
  {
   "cell_type": "markdown",
   "metadata": {},
   "source": [
    "Write a function to calculate the unweighted distance of a new cluster formed from $A$ and $B$ to another cluster $X$, when given the size of the clusters $A$ and $B$ and their distances to $X$. This will be used in the UPGMA algorithm below.\n",
    "\n",
    "$$d_{(A \\cup B),X} = \\frac{|A|~d_{A,X}~+~|B|~d_{B,X}}{|A|~+~|B|}$$"
   ]
  },
  {
   "cell_type": "code",
   "execution_count": 507,
   "metadata": {
    "collapsed": true
   },
   "outputs": [],
   "source": [
    "def new_dist(a_size, b_size, d_a_x, d_b_x):\n",
    "\n",
    "    ## WRITE ME ##\n",
    "    \n",
    "    return ((a_size*d_a_x + b_size*d_b_x)/ (a_size + b_size))"
   ]
  },
  {
   "cell_type": "code",
   "execution_count": 508,
   "metadata": {},
   "outputs": [
    {
     "name": "stdout",
     "output_type": "stream",
     "text": [
      "0.8534999999999999\n",
      "0.8156666666666667\n"
     ]
    }
   ],
   "source": [
    "print(new_dist(1, 1, 0.740, 0.967))\n",
    "print(new_dist(2, 1, 0.740, 0.967))"
   ]
  },
  {
   "cell_type": "markdown",
   "metadata": {},
   "source": [
    "Finally, write a function that brings in a distance matrix and creates clusters using the UPGMA algorithm. This algorithm  iteratively combines the two closest clusters until there is one single tree. Here is the pseudocode for this algorithm:\n",
    "\n",
    "* Create the initial list of leaf clusters\n",
    "* While we still have multiple independent clusters\n",
    "  * Find the nearest two clusters according to our distance matrix\n",
    "  * Join these two clusters to make a new cluster\n",
    "  * Add new distances to our matrix for every row and column between it and the new cluster\n",
    "* Return the list of created clusters, minus the initial leaves"
   ]
  },
  {
   "cell_type": "code",
   "execution_count": 857,
   "metadata": {},
   "outputs": [],
   "source": [
    "def upgma(m):\n",
    "\n",
    "    ## WRITE ME ##\n",
    "    \n",
    "    origM = [lis for lis in m]\n",
    "    \n",
    "    #create leaves, using inital clusters\n",
    "    iClus = init_clusters(m)\n",
    "    clus = []\n",
    "    curClus = [c for c in iClus]\n",
    "    \n",
    "    unUsed = [i for i in range(len(origM))]\n",
    "    used = set()\n",
    "    #print(unUsed)\n",
    "    #Find the nearest distance. using nearest()g\n",
    "    counter = len(origM)\n",
    "    \n",
    "    while len(unUsed) != 1:\n",
    "        n = nearest(origM)\n",
    "#         print(n)\n",
    "        size = iClus[n[0]][3] + iClus[n[1]][3]\n",
    "        if n[0] in unUsed:\n",
    "            unUsed.remove(n[0])\n",
    "        if n[1] in unUsed:\n",
    "            unUsed.remove(n[1])\n",
    "        \n",
    "        used.add(n[0])\n",
    "        used.add(n[1])\n",
    "        \n",
    "#         print(unUsed)\n",
    "#         print(used)\n",
    "        iClus.append([n[0], n[1], 0, size])\n",
    "        \n",
    "        clus.append([n[0], n[1], n[2], size])\n",
    "        \n",
    "        #Remove the clusters that have been used\n",
    "        # add the new one in\n",
    "        rItems = [n[0], n[1]]\n",
    "        \n",
    "        curClus.append([n[0], n[1], n[2], size])\n",
    "        \n",
    "        unUsed.append(len(origM))\n",
    "        \n",
    "        for i in origM:\n",
    "            i.append(10)\n",
    "        origM.append([10 for i in range(len(origM) + 1)])\n",
    "        \n",
    "        for i in range(len(origM)):\n",
    "            for j in range(len(origM)):\n",
    "                if origM[i][j] == 10:\n",
    "                    if i == len(origM) - 1:\n",
    "                        origM[i][j] = new_dist(iClus[n[0]][3], iClus[n[1]][3], origM[n[0]][j], origM[n[1]][j])\n",
    "                    else:\n",
    "                        origM[i][j] = new_dist(iClus[n[0]][3], iClus[n[1]][3], origM[n[0]][i], origM[n[1]][i])\n",
    "#                         print(\"recalculating i, j: \" + str(i) + \",\" + str(j))\n",
    "#                         print(iClus[n[0]][3], iClus[n[1]][3], origM[n[0]][i], origM[n[1]][i])\n",
    "                if i == j:\n",
    "                    origM[i][j] = 0\n",
    "                    \n",
    "        for i in range(len(origM)):\n",
    "            if i == n[0] or i == n[1] or i in used:\n",
    "                origM[i] = [5 for i in range(i)] + [0] + [5 for i in range(i, len(origM))]\n",
    "            else:\n",
    "                for j in range(len(origM)):\n",
    "                    if j == n[0] or j == n[1] or j in used:\n",
    "                        origM[i][j] = 5\n",
    "    \n",
    "#         print(origM)\n",
    "    return clus\n"
   ]
  },
  {
   "cell_type": "code",
   "execution_count": 858,
   "metadata": {},
   "outputs": [
    {
     "data": {
      "text/plain": [
       "[[1, 3, 0.6881940602419325, 2],\n",
       " [0, 4, 0.8536675922317023, 3],\n",
       " [2, 5, 0.9711888322946779, 4]]"
      ]
     },
     "execution_count": 858,
     "metadata": {},
     "output_type": "execute_result"
    }
   ],
   "source": [
    "c = upgma(dmat[:])\n",
    "c"
   ]
  },
  {
   "cell_type": "markdown",
   "metadata": {},
   "source": [
    "# Part 4 - Dendrogram"
   ]
  },
  {
   "cell_type": "markdown",
   "metadata": {},
   "source": [
    "Finally, we can use the $dendrogram$ function in the $scipy.hierarchy$ module to draw the resulting tree from our clustered data."
   ]
  },
  {
   "cell_type": "code",
   "execution_count": 859,
   "metadata": {},
   "outputs": [
    {
     "data": {
      "text/plain": [
       "<matplotlib.figure.Figure at 0x10d112c50>"
      ]
     },
     "metadata": {},
     "output_type": "display_data"
    },
    {
     "data": {
      "image/png": "[encoded data removed]",
      "text/plain": [
       "<matplotlib.figure.Figure at 0x10d112da0>"
      ]
     },
     "metadata": {},
     "output_type": "display_data"
    }
   ],
   "source": [
    "plt.figure()\n",
    "plt.figure(figsize=(10, 6))\n",
    "dn = hierarchy.dendrogram(c, labels = filenames, leaf_rotation=90 )\n",
    "plt.title(\"UPGMA Clustering of Winter Sentences using tf-idf\")\n",
    "plt.ylabel(\"cosine distance\")\n",
    "plt.show()"
   ]
  },
  {
   "cell_type": "markdown",
   "metadata": {},
   "source": [
    "# Part 5 - Experiments and Discussion"
   ]
  },
  {
   "cell_type": "markdown",
   "metadata": {},
   "source": [
    "Draw a dendrogram and discuss the results of your clustering for each of the following four experiments\n",
    "* Poems using tf only\n",
    "* Poems using tf-idf\n",
    "* Books using tf only\n",
    "* Books using tf-idf"
   ]
  },
  {
   "cell_type": "code",
   "execution_count": 896,
   "metadata": {
    "collapsed": true
   },
   "outputs": [],
   "source": [
    "def find_tf(tf, terms):\n",
    "    docTF = []\n",
    "    for doc in tf:\n",
    "        docDict = tf[doc]\n",
    "        docLen = sum(docDict.values())\n",
    "        docF = []\n",
    "        for term in terms:\n",
    "            docF.append((docDict.get(term, 0) / docLen))\n",
    "        docTF.append(docF)    \n",
    "    return docTF"
   ]
  },
  {
   "cell_type": "markdown",
   "metadata": {},
   "source": [
    "# Poems"
   ]
  },
  {
   "cell_type": "code",
   "execution_count": 981,
   "metadata": {
    "collapsed": true
   },
   "outputs": [],
   "source": [
    "filedir = \"Poems\"\n",
    "Pdocuments = []\n",
    "Pfilenames = []\n",
    "for f in os.listdir(filedir):\n",
    "    if f.endswith(\".txt\"):\n",
    "        Pfilenames.append(f[:-4].replace(\"_\", \" \"))\n",
    "        fopen = open(filedir + \"/\" + f)\n",
    "        Pdocuments.append(re.sub(r'[^\\w\\s]', '', fopen.read().lower().replace(\"\\n\", \" \")))"
   ]
  },
  {
   "cell_type": "code",
   "execution_count": 982,
   "metadata": {},
   "outputs": [],
   "source": [
    "Ptf = term_freqs(Pdocuments, Pfilenames)"
   ]
  },
  {
   "cell_type": "code",
   "execution_count": 983,
   "metadata": {},
   "outputs": [],
   "source": [
    "Pterms = all_terms(Pdocuments)"
   ]
  },
  {
   "cell_type": "markdown",
   "metadata": {
    "collapsed": true
   },
   "source": [
    "### Poems tf-idf"
   ]
  },
  {
   "cell_type": "code",
   "execution_count": 984,
   "metadata": {},
   "outputs": [],
   "source": [
    "Pidf = inv_doc_freqs(Pdocuments, Pterms)\n",
    "\n",
    "Ptfidf = find_tfidf(Ptf, Pidf, Pterms)"
   ]
  },
  {
   "cell_type": "code",
   "execution_count": 985,
   "metadata": {},
   "outputs": [],
   "source": [
    "Pdmat = dist_matrix(Ptfidf)\n",
    "#pretty_matrix(filenames, filenames, dmat)"
   ]
  },
  {
   "cell_type": "code",
   "execution_count": 986,
   "metadata": {},
   "outputs": [
    {
     "data": {
      "text/plain": [
       "[[9, 16, 0.8294757860989577, 2],\n",
       " [6, 10, 0.8381743943821485, 2],\n",
       " [2, 20, 0.8536578425536837, 3],\n",
       " [12, 19, 0.8538120171586061, 3],\n",
       " [4, 18, 0.8844009148906798, 2],\n",
       " [5, 22, 0.8892130312164297, 4],\n",
       " [7, 17, 0.9190093506080912, 2],\n",
       " [14, 24, 0.921429348086772, 5],\n",
       " [21, 26, 0.9260154489719803, 8],\n",
       " [0, 27, 0.9415866160851234, 9],\n",
       " [8, 28, 0.9488206157100928, 10],\n",
       " [1, 3, 0.953005801034666, 2],\n",
       " [25, 29, 0.9539756028682685, 12],\n",
       " [13, 31, 0.9584645661973509, 13],\n",
       " [23, 32, 0.9647242670335155, 15],\n",
       " [11, 33, 0.9678774547549872, 16],\n",
       " [30, 34, 0.9698663369305809, 18],\n",
       " [15, 35, 0.9733028608417066, 19]]"
      ]
     },
     "execution_count": 986,
     "metadata": {},
     "output_type": "execute_result"
    }
   ],
   "source": [
    "c = upgma(Pdmat)\n",
    "c"
   ]
  },
  {
   "cell_type": "code",
   "execution_count": 987,
   "metadata": {},
   "outputs": [
    {
     "data": {
      "text/plain": [
       "<matplotlib.figure.Figure at 0x11bde7978>"
      ]
     },
     "metadata": {},
     "output_type": "display_data"
    },
    {
     "data": {
      "image/png": "[encoded data removed]",
      "text/plain": [
       "<matplotlib.figure.Figure at 0x11bde7128>"
      ]
     },
     "metadata": {},
     "output_type": "display_data"
    }
   ],
   "source": [
    "plt.figure()\n",
    "plt.figure(figsize=(10, 6))\n",
    "dn = hierarchy.dendrogram(c, labels = Pfilenames, leaf_rotation=90 )\n",
    "plt.title(\"UPGMA Clustering of Poems using tf-idf\")\n",
    "plt.ylabel(\"cosine distance\")\n",
    "plt.show()"
   ]
  },
  {
   "cell_type": "code",
   "execution_count": 995,
   "metadata": {},
   "outputs": [
    {
     "name": "stdout",
     "output_type": "stream",
     "text": [
      "(9, 16, 0.8294757860989577)\n",
      "Book 1: Paul Revere s Ride , Book 2: The Raven\n"
     ]
    }
   ],
   "source": [
    "n = nearest(Pdmat)\n",
    "print(n)\n",
    "print(\"Book 1: \" + str(Pfilenames[n[0]]), \", Book 2: \" + str(Pfilenames[n[1]]))"
   ]
  },
  {
   "cell_type": "markdown",
   "metadata": {},
   "source": [
    "None of the poems are very closesly related, with the closest two being Paul Revere's Ride and The Raven at 0.82. This is not very close in terms of the inverse document frequencty. This means that none of the poems are truly related to each other. "
   ]
  },
  {
   "cell_type": "markdown",
   "metadata": {},
   "source": [
    "### Poems tf"
   ]
  },
  {
   "cell_type": "code",
   "execution_count": 990,
   "metadata": {},
   "outputs": [],
   "source": [
    "Ptf = find_tf(Ptf, Pterms)"
   ]
  },
  {
   "cell_type": "code",
   "execution_count": 991,
   "metadata": {},
   "outputs": [],
   "source": [
    "Ptfdmat = dist_matrix(Ptf)"
   ]
  },
  {
   "cell_type": "code",
   "execution_count": 992,
   "metadata": {},
   "outputs": [
    {
     "data": {
      "text/plain": [
       "[[9, 12, 0.18281454857849688, 2],\n",
       " [14, 19, 0.220398617257838, 3],\n",
       " [16, 20, 0.2419008807594802, 4],\n",
       " [3, 21, 0.2946178029567904, 5],\n",
       " [6, 10, 0.33881894604571916, 2],\n",
       " [8, 22, 0.3574887896443927, 6],\n",
       " [17, 24, 0.39786691290589243, 7],\n",
       " [2, 23, 0.4525447267446197, 3],\n",
       " [18, 25, 0.46006222146275283, 8],\n",
       " [15, 27, 0.5129429595504744, 9],\n",
       " [5, 28, 0.5307477745869731, 10],\n",
       " [1, 29, 0.5402072967242469, 11],\n",
       " [7, 26, 0.5604622392033722, 4],\n",
       " [13, 30, 0.5607976540588355, 12],\n",
       " [31, 32, 0.5886911942757614, 16],\n",
       " [11, 33, 0.6409097015369454, 17],\n",
       " [0, 34, 0.6528952748032815, 18],\n",
       " [4, 35, 0.6917681985179702, 19]]"
      ]
     },
     "execution_count": 992,
     "metadata": {},
     "output_type": "execute_result"
    }
   ],
   "source": [
    "ctf = upgma(Ptfdmat)\n",
    "ctf"
   ]
  },
  {
   "cell_type": "code",
   "execution_count": 993,
   "metadata": {},
   "outputs": [
    {
     "data": {
      "text/plain": [
       "<matplotlib.figure.Figure at 0x118e75da0>"
      ]
     },
     "metadata": {},
     "output_type": "display_data"
    },
    {
     "data": {
      "image/png": "[encoded data removed]",
      "text/plain": [
       "<matplotlib.figure.Figure at 0x118e756d8>"
      ]
     },
     "metadata": {},
     "output_type": "display_data"
    }
   ],
   "source": [
    "plt.figure()\n",
    "plt.figure(figsize=(10, 6))\n",
    "dn = hierarchy.dendrogram(ctf, labels = Pfilenames, leaf_rotation=90 )\n",
    "plt.title(\"UPGMA Clustering of Poems using tf\")\n",
    "plt.ylabel(\"cosine distance\")\n",
    "plt.show()"
   ]
  },
  {
   "cell_type": "code",
   "execution_count": 994,
   "metadata": {},
   "outputs": [
    {
     "name": "stdout",
     "output_type": "stream",
     "text": [
      "(9, 12, 0.18281454857849688)\n",
      "Book 1: Paul Revere s Ride , Book 2: Prufrock\n"
     ]
    }
   ],
   "source": [
    "n = nearest(Ptfdmat)\n",
    "print(n)\n",
    "print(\"Book 1: \" + str(Pfilenames[n[0]]), \", Book 2: \" + str(Pfilenames[n[1]]))"
   ]
  },
  {
   "cell_type": "markdown",
   "metadata": {},
   "source": [
    "The two poems with the closest term frequency are Paul Revere's Ride and Prufrock. I'm not sure why the two poems are closely related with terms, but they must have a similar topic and terms used. Both Milk and Perfect use a lot of variants of 'you'. This could explain why they are so closely lined up with one another. "
   ]
  },
  {
   "cell_type": "markdown",
   "metadata": {},
   "source": [
    "# Books"
   ]
  },
  {
   "cell_type": "code",
   "execution_count": 966,
   "metadata": {
    "collapsed": true
   },
   "outputs": [],
   "source": [
    "filedir = \"Books\"\n",
    "Bdocuments = []\n",
    "Bfilenames = []\n",
    "for f in os.listdir(filedir):\n",
    "    if f.endswith(\".txt\"):\n",
    "        Bfilenames.append(f[:-4].replace(\"_\", \" \"))\n",
    "        fopen = open(filedir + \"/\" + f)\n",
    "        Bdocuments.append(re.sub(r'[^\\w\\s]', '', fopen.read().lower().replace(\"\\n\", \" \")))"
   ]
  },
  {
   "cell_type": "code",
   "execution_count": 967,
   "metadata": {},
   "outputs": [],
   "source": [
    "Btf = term_freqs(Bdocuments, Bfilenames)"
   ]
  },
  {
   "cell_type": "code",
   "execution_count": 968,
   "metadata": {
    "collapsed": true
   },
   "outputs": [],
   "source": [
    "Bterms = all_terms(Bdocuments)"
   ]
  },
  {
   "cell_type": "code",
   "execution_count": 969,
   "metadata": {
    "collapsed": true
   },
   "outputs": [],
   "source": [
    "Bidf = inv_doc_freqs(Bdocuments, Bterms)\n",
    "\n",
    "Btfidf = find_tfidf(Btf, Bidf, Bterms)"
   ]
  },
  {
   "cell_type": "markdown",
   "metadata": {},
   "source": [
    "### Books tf"
   ]
  },
  {
   "cell_type": "code",
   "execution_count": 970,
   "metadata": {
    "collapsed": true
   },
   "outputs": [],
   "source": [
    "## Take the term freq then normalize it by dividing it by the doc length\n",
    "\n",
    "Btf = find_tf(Btf, Bterms)"
   ]
  },
  {
   "cell_type": "code",
   "execution_count": 971,
   "metadata": {
    "collapsed": true
   },
   "outputs": [],
   "source": [
    "Btfdmat = dist_matrix(Btf)"
   ]
  },
  {
   "cell_type": "code",
   "execution_count": 972,
   "metadata": {},
   "outputs": [
    {
     "data": {
      "text/plain": [
       "[[0, 4, 0.0316893932897272, 2],\n",
       " [2, 17, 0.036848986733095335, 2],\n",
       " [10, 21, 0.04676679771892789, 3],\n",
       " [6, 20, 0.04970576248422415, 3],\n",
       " [5, 16, 0.05074981603021733, 2],\n",
       " [3, 9, 0.05499371924054919, 2],\n",
       " [7, 14, 0.0560751459564941, 2],\n",
       " [19, 24, 0.059282343586115116, 3],\n",
       " [13, 25, 0.0633584789073579, 3],\n",
       " [18, 22, 0.07202669380836231, 4],\n",
       " [27, 29, 0.07604467716740314, 7],\n",
       " [23, 28, 0.08373101064292761, 6],\n",
       " [15, 26, 0.09772573413271318, 3],\n",
       " [1, 31, 0.09898689283799887, 7],\n",
       " [30, 33, 0.10557947355771218, 14],\n",
       " [32, 34, 0.126566393092701, 17],\n",
       " [12, 35, 0.1666413720883896, 18],\n",
       " [8, 36, 0.1845105128637691, 19],\n",
       " [11, 37, 0.20352243607249507, 20]]"
      ]
     },
     "execution_count": 972,
     "metadata": {},
     "output_type": "execute_result"
    }
   ],
   "source": [
    "cBtf = upgma(Btfdmat)\n",
    "cBtf"
   ]
  },
  {
   "cell_type": "code",
   "execution_count": 988,
   "metadata": {},
   "outputs": [
    {
     "data": {
      "text/plain": [
       "<matplotlib.figure.Figure at 0x118b777f0>"
      ]
     },
     "metadata": {},
     "output_type": "display_data"
    },
    {
     "data": {
      "image/png": "[encoded data removed]",
      "text/plain": [
       "<matplotlib.figure.Figure at 0x118b77e48>"
      ]
     },
     "metadata": {},
     "output_type": "display_data"
    }
   ],
   "source": [
    "plt.figure()\n",
    "plt.figure(figsize=(10, 6))\n",
    "dn = hierarchy.dendrogram(cBtf, labels = Bfilenames, leaf_rotation=90 )\n",
    "plt.title(\"UPGMA Clustering of Books using tf\")\n",
    "plt.ylabel(\"cosine distance\")\n",
    "plt.show()"
   ]
  },
  {
   "cell_type": "code",
   "execution_count": 989,
   "metadata": {},
   "outputs": [
    {
     "name": "stdout",
     "output_type": "stream",
     "text": [
      "(0, 4, 0.0316893932897272)\n",
      "Book 1: A Connecticut Yankee In King Arthurs Court , Book 2: Dr Jekyll Mr Hyde\n"
     ]
    }
   ],
   "source": [
    "n = nearest(Btfdmat)\n",
    "print(n)\n",
    "print(\"Book 1: \" + str(Bfilenames[n[0]]), \", Book 2: \" + str(Bfilenames[n[1]]))"
   ]
  },
  {
   "cell_type": "markdown",
   "metadata": {},
   "source": [
    "It is interesting to note that most of the books are actually fairly similar to one another when it comes to term frequency. All but three are within 0.125 of each other. Even the rest are not far off. This may be caused by the stop words, as I did not take them out for this analysis. "
   ]
  },
  {
   "cell_type": "markdown",
   "metadata": {},
   "source": [
    "### Books tf-idf"
   ]
  },
  {
   "cell_type": "code",
   "execution_count": 976,
   "metadata": {
    "collapsed": true
   },
   "outputs": [],
   "source": [
    "Bdmat = dist_matrix(Btfidf)"
   ]
  },
  {
   "cell_type": "code",
   "execution_count": 977,
   "metadata": {},
   "outputs": [
    {
     "data": {
      "text/plain": [
       "[[0, 8, 0.6104106775624845, 2],\n",
       " [7, 15, 0.6734927179177701, 2],\n",
       " [13, 18, 0.8769280556738519, 2],\n",
       " [20, 21, 0.9042152062048276, 4],\n",
       " [6, 11, 0.9308119554392287, 2],\n",
       " [4, 22, 0.949384338595601, 3],\n",
       " [23, 24, 0.9572137914156988, 6],\n",
       " [12, 26, 0.9730207582544134, 7],\n",
       " [9, 25, 0.9762278162315788, 4],\n",
       " [14, 27, 0.9774107846356161, 8],\n",
       " [2, 16, 0.9843414450725201, 2],\n",
       " [5, 17, 0.9854264435981138, 2],\n",
       " [28, 29, 0.9858294108333152, 12],\n",
       " [3, 32, 0.9897253528911351, 13],\n",
       " [19, 30, 0.9924188487391524, 3],\n",
       " [33, 34, 0.9935440123762022, 16],\n",
       " [31, 35, 0.9940211652178058, 18],\n",
       " [1, 36, 0.9947263950302422, 19],\n",
       " [10, 37, 0.9957193083865714, 20]]"
      ]
     },
     "execution_count": 977,
     "metadata": {},
     "output_type": "execute_result"
    }
   ],
   "source": [
    "cBidf = upgma(Bdmat)\n",
    "cBidf"
   ]
  },
  {
   "cell_type": "code",
   "execution_count": 978,
   "metadata": {},
   "outputs": [
    {
     "data": {
      "text/plain": [
       "<matplotlib.figure.Figure at 0x119394748>"
      ]
     },
     "metadata": {},
     "output_type": "display_data"
    },
    {
     "data": {
      "image/png": "[encoded data removed]",
      "text/plain": [
       "<matplotlib.figure.Figure at 0x1193946d8>"
      ]
     },
     "metadata": {},
     "output_type": "display_data"
    }
   ],
   "source": [
    "plt.figure()\n",
    "plt.figure(figsize=(10, 6))\n",
    "dn = hierarchy.dendrogram(cBidf, labels = Bfilenames, leaf_rotation=90 )\n",
    "plt.title(\"UPGMA Clustering of Books using tf-idf\")\n",
    "plt.ylabel(\"cosine distance\")\n",
    "plt.show()"
   ]
  },
  {
   "cell_type": "code",
   "execution_count": 979,
   "metadata": {},
   "outputs": [
    {
     "name": "stdout",
     "output_type": "stream",
     "text": [
      "(0, 8, 0.6104106775624845)\n",
      "Book 1: A Connecticut Yankee In King Arthurs Court , Book 2: Le Morte D'Arthur\n"
     ]
    }
   ],
   "source": [
    "n = nearest(Bdmat)\n",
    "print(n)\n",
    "print(\"Book 1: \" + str(Bfilenames[n[0]]), \", Book 2: \" + str(Bfilenames[n[1]]))"
   ]
  },
  {
   "cell_type": "markdown",
   "metadata": {},
   "source": [
    "Both 'A Connecticut Yankee In King Arthurs Court' and 'Le Morte D'Arthur' are both based on dealings with King Arthur. This would explain why they are the most closely related at around 0.61. While 'J. Wesley Sermons 1 to 50' are closely related to 'The Book of Mormon' since both are religious works. "
   ]
  },
  {
   "cell_type": "markdown",
   "metadata": {},
   "source": [
    "# New Books"
   ]
  },
  {
   "cell_type": "markdown",
   "metadata": {},
   "source": [
    "Find two new books to compare with your texts, one that you believe will match another in writing style, and one that will match in content. Repeat the above analysis, and explicitly denote the closest book from the corpus using the cosine similarity metric. Was your hypothesis correct?"
   ]
  },
  {
   "cell_type": "markdown",
   "metadata": {},
   "source": [
    "I will be adding in two new books, Through the Looking Glass by Lewis Carroll. This is a similar book to that of Alice's Adventures in Wonderland, and is writen by the same author. I anticipate that this will be very similarly to eachother. The other book is Huckelberry Finn by Mark Twain. I anticipate this being close to the Hobbit or some other adventure book. "
   ]
  },
  {
   "cell_type": "code",
   "execution_count": 948,
   "metadata": {
    "collapsed": true
   },
   "outputs": [],
   "source": [
    "filedir = \"New_Books\"\n",
    "NBdocuments = Bdocuments\n",
    "NBfilenames = Bfilenames\n",
    "for f in os.listdir(filedir):\n",
    "    if f.endswith(\".txt\"):\n",
    "        NBfilenames.append(f[:-4].replace(\"_\", \" \"))\n",
    "        fopen = open(filedir + \"/\" + f)\n",
    "        NBdocuments.append(re.sub(r'[^\\w\\s]', '', fopen.read().lower().replace(\"\\n\", \" \")))"
   ]
  },
  {
   "cell_type": "code",
   "execution_count": 949,
   "metadata": {
    "collapsed": true
   },
   "outputs": [],
   "source": [
    "Btf = term_freqs(NBdocuments, NBfilenames)"
   ]
  },
  {
   "cell_type": "code",
   "execution_count": 950,
   "metadata": {
    "collapsed": true
   },
   "outputs": [],
   "source": [
    "Bterms = all_terms(Bdocuments)"
   ]
  },
  {
   "cell_type": "code",
   "execution_count": 951,
   "metadata": {
    "collapsed": true
   },
   "outputs": [],
   "source": [
    "Bidf = inv_doc_freqs(NBdocuments, Bterms)\n",
    "\n",
    "Btfidf = find_tfidf(Btf, Bidf, Bterms)"
   ]
  },
  {
   "cell_type": "markdown",
   "metadata": {},
   "source": [
    "### New Books tf-idf"
   ]
  },
  {
   "cell_type": "code",
   "execution_count": 952,
   "metadata": {
    "collapsed": true
   },
   "outputs": [],
   "source": [
    "Bdmat = dist_matrix(Btfidf)"
   ]
  },
  {
   "cell_type": "code",
   "execution_count": 953,
   "metadata": {
    "scrolled": false
   },
   "outputs": [
    {
     "data": {
      "text/plain": [
       "[[1, 21, 0.16881561009900092, 2],\n",
       " [0, 8, 0.6180385625449141, 2],\n",
       " [7, 15, 0.6714347867600041, 2],\n",
       " [13, 18, 0.8807075344845008, 2],\n",
       " [23, 24, 0.9063630686390074, 4],\n",
       " [6, 11, 0.9236885175569397, 2],\n",
       " [4, 25, 0.9507568880410393, 3],\n",
       " [2, 20, 0.9527630321975686, 2],\n",
       " [26, 27, 0.9542242809844972, 6],\n",
       " [12, 30, 0.973159172282006, 7],\n",
       " [9, 28, 0.9748171512169352, 4],\n",
       " [14, 31, 0.9774761676955942, 8],\n",
       " [22, 29, 0.9843343980966613, 4],\n",
       " [32, 33, 0.9853325108078985, 12],\n",
       " [5, 17, 0.9854020439784481, 2],\n",
       " [34, 35, 0.9887769026059151, 16],\n",
       " [3, 37, 0.9908521989700925, 17],\n",
       " [16, 19, 0.9926672958494884, 2],\n",
       " [38, 39, 0.993551391022375, 19],\n",
       " [36, 40, 0.9943273000858991, 21],\n",
       " [10, 41, 0.9956213764043932, 22]]"
      ]
     },
     "execution_count": 953,
     "metadata": {},
     "output_type": "execute_result"
    }
   ],
   "source": [
    "cNBidf = upgma(Bdmat)\n",
    "cNBidf"
   ]
  },
  {
   "cell_type": "code",
   "execution_count": 954,
   "metadata": {},
   "outputs": [
    {
     "data": {
      "text/plain": [
       "<matplotlib.figure.Figure at 0x1123ac748>"
      ]
     },
     "metadata": {},
     "output_type": "display_data"
    },
    {
     "data": {
      "image/png": "[encoded data removed]",
      "text/plain": [
       "<matplotlib.figure.Figure at 0x1123acac8>"
      ]
     },
     "metadata": {},
     "output_type": "display_data"
    }
   ],
   "source": [
    "plt.figure()\n",
    "plt.figure(figsize=(10, 6))\n",
    "dn = hierarchy.dendrogram(c, labels = Bfilenames, leaf_rotation=90 )\n",
    "plt.title(\"UPGMA Clustering of Books using tf-idf with Additional Books\")\n",
    "plt.ylabel(\"cosine distance\")\n",
    "plt.show()"
   ]
  },
  {
   "cell_type": "code",
   "execution_count": 955,
   "metadata": {},
   "outputs": [
    {
     "name": "stdout",
     "output_type": "stream",
     "text": [
      "(1, 21, 0.16881561009900092)\n",
      "Book 1: Alices Adventures in Wonderland , Book 2: The Looking Glass\n"
     ]
    }
   ],
   "source": [
    "n = nearest(Bdmat)\n",
    "print(n)\n",
    "print(\"Book 1: \" + str(Bfilenames[n[0]]), \", Book 2: \" + str(Bfilenames[n[1]]))"
   ]
  },
  {
   "cell_type": "markdown",
   "metadata": {},
   "source": [
    "As predicted, Alice's Adventures in Wonderland and Through the Looking Glass are the most similar books. This is probably due to the fact that they are written by the same author. And Through the Looking Glass is the sequel to Alice's Adventures in Wonderland. This means that many of the characters are the same, and many of the action words may be the same. "
   ]
  },
  {
   "cell_type": "markdown",
   "metadata": {},
   "source": [
    "### New Books tf"
   ]
  },
  {
   "cell_type": "code",
   "execution_count": 956,
   "metadata": {},
   "outputs": [],
   "source": [
    "Btfnew = find_tf(Btf, Bterms)\n",
    "\n",
    "Btfdmat = dist_matrix(Btfnew)"
   ]
  },
  {
   "cell_type": "code",
   "execution_count": 957,
   "metadata": {},
   "outputs": [
    {
     "data": {
      "text/plain": [
       "[[1, 21, 0.014650771114196992, 2],\n",
       " [0, 4, 0.0316893932897272, 2],\n",
       " [2, 17, 0.036848986733095335, 2],\n",
       " [10, 24, 0.04676679771892789, 3],\n",
       " [6, 23, 0.04970576248422415, 3],\n",
       " [5, 16, 0.05074981603021733, 2],\n",
       " [3, 9, 0.05499371924054919, 2],\n",
       " [7, 14, 0.0560751459564941, 2],\n",
       " [19, 27, 0.059282343586115116, 3],\n",
       " [13, 28, 0.0633584789073579, 3],\n",
       " [18, 25, 0.07202669380836231, 4],\n",
       " [30, 32, 0.07604467716740314, 7],\n",
       " [26, 31, 0.08373101064292761, 6],\n",
       " [20, 34, 0.08913247093398029, 7],\n",
       " [15, 29, 0.09772573413271318, 3],\n",
       " [22, 35, 0.10088290200343326, 9],\n",
       " [33, 37, 0.10802605446385771, 16],\n",
       " [12, 36, 0.12716073782013082, 4],\n",
       " [38, 39, 0.14407027892429408, 20],\n",
       " [8, 40, 0.1844012267379859, 21],\n",
       " [11, 41, 0.20473126551894866, 22]]"
      ]
     },
     "execution_count": 957,
     "metadata": {},
     "output_type": "execute_result"
    }
   ],
   "source": [
    "cNBtf = upgma(Btfdmat)\n",
    "cNBtf"
   ]
  },
  {
   "cell_type": "code",
   "execution_count": 958,
   "metadata": {},
   "outputs": [
    {
     "data": {
      "text/plain": [
       "<matplotlib.figure.Figure at 0x1180d0c50>"
      ]
     },
     "metadata": {},
     "output_type": "display_data"
    },
    {
     "data": {
      "image/png": "[encoded data removed]",
      "text/plain": [
       "<matplotlib.figure.Figure at 0x1180d0e80>"
      ]
     },
     "metadata": {},
     "output_type": "display_data"
    }
   ],
   "source": [
    "plt.figure()\n",
    "plt.figure(figsize=(10, 6))\n",
    "dn = hierarchy.dendrogram(cNBtf, labels = Bfilenames, leaf_rotation=90 )\n",
    "plt.title(\"UPGMA Clustering of Books using tf with Additional Books\")\n",
    "plt.ylabel(\"cosine distance\")\n",
    "plt.show()"
   ]
  },
  {
   "cell_type": "code",
   "execution_count": 959,
   "metadata": {},
   "outputs": [
    {
     "name": "stdout",
     "output_type": "stream",
     "text": [
      "(1, 21, 0.014650771114196992)\n",
      "Book 1: Alices Adventures in Wonderland , Book 2: The Looking Glass\n"
     ]
    }
   ],
   "source": [
    "n = nearest(Btfdmat)\n",
    "print(n)\n",
    "print(\"Book 1: \" + str(Bfilenames[n[0]]), \", Book 2: \" + str(Bfilenames[n[1]]))"
   ]
  },
  {
   "cell_type": "markdown",
   "metadata": {},
   "source": [
    "Again Through the Looking Glass and Alice's Adventures in Wonderland are the closest book pairing that uses similar terms. This is different that my prediction. Huckleberry Finn is close to a grouping, but is not the smalles grouping possible in this corpus. It does exist in the same group as The Hobbit but is also similar to books that aren't defined as adventure books. "
   ]
  },
  {
   "cell_type": "code",
   "execution_count": null,
   "metadata": {
    "collapsed": true
   },
   "outputs": [],
   "source": []
  }
 ],
 "metadata": {
  "kernelspec": {
   "display_name": "Python 3",
   "language": "python",
   "name": "python3"
  },
  "language_info": {
   "codemirror_mode": {
    "name": "ipython",
    "version": 3
   },
   "file_extension": ".py",
   "mimetype": "text/x-python",
   "name": "python",
   "nbconvert_exporter": "python",
   "pygments_lexer": "ipython3",
   "version": "3.6.1"
  }
 },
 "nbformat": 4,
 "nbformat_minor": 2
}
