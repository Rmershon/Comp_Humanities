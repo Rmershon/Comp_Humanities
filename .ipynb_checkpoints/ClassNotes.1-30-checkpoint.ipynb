{
 "cells": [
  {
   "cell_type": "markdown",
   "metadata": {},
   "source": [
    "Term Freq * Inverse Document Freq\n",
    "tr * idf\n",
    "\n"
   ]
  },
  {
   "cell_type": "code",
   "execution_count": 1,
   "metadata": {
    "collapsed": true
   },
   "outputs": [],
   "source": [
    "import math\n",
    "\n",
    "#I can easily make this a function that takes a list of String docs as input\n",
    "a = \"wet snow falls in winter snow falls\"\n",
    "b= \"cold and wet in winter\"\n",
    "c = \"cold wet snow packs best best\"\n",
    "d = \"cold snow is cold and wet\"\n",
    "\n",
    "docs = [a, b, c, d]\n",
    "\n",
    "#For the term frequency per doc\n",
    "docDicts = []\n",
    "for doc in docs:\n",
    "    dic = {}\n",
    "    words = doc.split()\n",
    "    for word in words:\n",
    "        dic[word] = dic.get(word, 0) + 1\n",
    "        \n",
    "    docDicts.append(dic)\n",
    "\n",
    "#Looks at the freq of documents that contain the word   \n",
    "docFreq = {}\n",
    "for doc in docDicts:\n",
    "    for key in doc.keys():\n",
    "        docFreq[key] = docFreq.get(key, 0) + 1\n",
    "\n",
    "\n",
    "#Calculate the inverse frequency for the docs\n",
    "for key in docFreq.keys():\n",
    "    docFreq[key] = math.log(len(docs)/docFreq.get(key, 0))\n",
    "\n",
    "\n",
    "## TO GET INVERSE\n",
    "## (N) / total documents appeared in\n",
    "## Where N is the total documents used\n",
    "## When looking at large docs, use log after the other calculations to get the new measurments\n",
    "## So wet will be 0, since 4/4 = 1 and log(1) = 0"
   ]
  },
  {
   "cell_type": "code",
   "execution_count": 2,
   "metadata": {},
   "outputs": [
    {
     "data": {
      "text/plain": [
       "{'and': 0.6931471805599453,\n",
       " 'best': 1.3862943611198906,\n",
       " 'cold': 0.28768207245178085,\n",
       " 'falls': 1.3862943611198906,\n",
       " 'in': 0.6931471805599453,\n",
       " 'is': 1.3862943611198906,\n",
       " 'packs': 1.3862943611198906,\n",
       " 'snow': 0.28768207245178085,\n",
       " 'wet': 0.0,\n",
       " 'winter': 0.6931471805599453}"
      ]
     },
     "execution_count": 2,
     "metadata": {},
     "output_type": "execute_result"
    }
   ],
   "source": [
    "docFreq"
   ]
  },
  {
   "cell_type": "markdown",
   "metadata": {},
   "source": [
    "space => Dimension\n",
    "\n",
    "will be ploting or putting words into 10 dimensions, for our 10 words\n",
    "\n",
    "10 X 4 matrix, words on top, docs on the side"
   ]
  },
  {
   "cell_type": "code",
   "execution_count": 3,
   "metadata": {
    "collapsed": true
   },
   "outputs": [],
   "source": [
    "import pandas as pd\n",
    "\n",
    "docMat = []\n",
    "for doc in docDicts:\n",
    "    docF = []\n",
    "    for key in sorted(docFreq.keys()):\n",
    "        #first half of this is to get the term freq from the specific document, for the specific word\n",
    "        #second half is the invers doc freq that the docFreq gives us\n",
    "        docF.append((doc.get(key, 0) * docFreq[key]))\n",
    "    docMat.append(docF)\n",
    "    \n",
    "df = pd.DataFrame(docMat, columns = sorted(docFreq.keys()))"
   ]
  },
  {
   "cell_type": "code",
   "execution_count": 4,
   "metadata": {},
   "outputs": [
    {
     "data": {
      "text/html": [
       "<div>\n",
       "<style>\n",
       "    .dataframe thead tr:only-child th {\n",
       "        text-align: right;\n",
       "    }\n",
       "\n",
       "    .dataframe thead th {\n",
       "        text-align: left;\n",
       "    }\n",
       "\n",
       "    .dataframe tbody tr th {\n",
       "        vertical-align: top;\n",
       "    }\n",
       "</style>\n",
       "<table border=\"1\" class=\"dataframe\">\n",
       "  <thead>\n",
       "    <tr style=\"text-align: right;\">\n",
       "      <th></th>\n",
       "      <th>and</th>\n",
       "      <th>best</th>\n",
       "      <th>cold</th>\n",
       "      <th>falls</th>\n",
       "      <th>in</th>\n",
       "      <th>is</th>\n",
       "      <th>packs</th>\n",
       "      <th>snow</th>\n",
       "      <th>wet</th>\n",
       "      <th>winter</th>\n",
       "    </tr>\n",
       "  </thead>\n",
       "  <tbody>\n",
       "    <tr>\n",
       "      <th>0</th>\n",
       "      <td>0.000000</td>\n",
       "      <td>0.000000</td>\n",
       "      <td>0.000000</td>\n",
       "      <td>2.772589</td>\n",
       "      <td>0.693147</td>\n",
       "      <td>0.000000</td>\n",
       "      <td>0.000000</td>\n",
       "      <td>0.575364</td>\n",
       "      <td>0.0</td>\n",
       "      <td>0.693147</td>\n",
       "    </tr>\n",
       "    <tr>\n",
       "      <th>1</th>\n",
       "      <td>0.693147</td>\n",
       "      <td>0.000000</td>\n",
       "      <td>0.287682</td>\n",
       "      <td>0.000000</td>\n",
       "      <td>0.693147</td>\n",
       "      <td>0.000000</td>\n",
       "      <td>0.000000</td>\n",
       "      <td>0.000000</td>\n",
       "      <td>0.0</td>\n",
       "      <td>0.693147</td>\n",
       "    </tr>\n",
       "    <tr>\n",
       "      <th>2</th>\n",
       "      <td>0.000000</td>\n",
       "      <td>2.772589</td>\n",
       "      <td>0.287682</td>\n",
       "      <td>0.000000</td>\n",
       "      <td>0.000000</td>\n",
       "      <td>0.000000</td>\n",
       "      <td>1.386294</td>\n",
       "      <td>0.287682</td>\n",
       "      <td>0.0</td>\n",
       "      <td>0.000000</td>\n",
       "    </tr>\n",
       "    <tr>\n",
       "      <th>3</th>\n",
       "      <td>0.693147</td>\n",
       "      <td>0.000000</td>\n",
       "      <td>0.575364</td>\n",
       "      <td>0.000000</td>\n",
       "      <td>0.000000</td>\n",
       "      <td>1.386294</td>\n",
       "      <td>0.000000</td>\n",
       "      <td>0.287682</td>\n",
       "      <td>0.0</td>\n",
       "      <td>0.000000</td>\n",
       "    </tr>\n",
       "  </tbody>\n",
       "</table>\n",
       "</div>"
      ],
      "text/plain": [
       "        and      best      cold     falls        in        is     packs  \\\n",
       "0  0.000000  0.000000  0.000000  2.772589  0.693147  0.000000  0.000000   \n",
       "1  0.693147  0.000000  0.287682  0.000000  0.693147  0.000000  0.000000   \n",
       "2  0.000000  2.772589  0.287682  0.000000  0.000000  0.000000  1.386294   \n",
       "3  0.693147  0.000000  0.575364  0.000000  0.000000  1.386294  0.000000   \n",
       "\n",
       "       snow  wet    winter  \n",
       "0  0.575364  0.0  0.693147  \n",
       "1  0.000000  0.0  0.693147  \n",
       "2  0.287682  0.0  0.000000  \n",
       "3  0.287682  0.0  0.000000  "
      ]
     },
     "execution_count": 4,
     "metadata": {},
     "output_type": "execute_result"
    }
   ],
   "source": [
    "df"
   ]
  },
  {
   "cell_type": "markdown",
   "metadata": {},
   "source": [
    "6 total possible pairings\n",
    "\n",
    "* 0, 1\n",
    "* 0, 2\n",
    "* 0, 3\n",
    "* 1, 2\n",
    "* 1, 3\n",
    "* 2, 3\n",
    "\n",
    "Magnitude = sqrt(elements^2)\n",
    "\n",
    "c = sqrt(a^2 + b^2)\n",
    "\n",
    "Euclidean distance: take element from both vectors, subtract to get distance, then find the magnitude from both\n",
    "\n",
    "What we need for comparison ==> cosine similarity\n",
    "\n",
    "Cosine Similarity Formula:\n",
    "\n",
    "Multiplying each column of the two elements, and adding the product of each.\n",
    "\n",
    "||A|| ==> Means magnitude\n",
    "\n",
    "A • B = ||A|| • ||B||  • cos(angle between them)\n",
    "\n",
    "A • B / ||A|| • ||B|| = cos(angle between them)\n",
    "\n",
    "metric goes from -1 -> 1\n",
    "\n",
    "\n",
    "\n",
    "\n",
    "Similarity matrix |documents| * |documents|"
   ]
  },
  {
   "cell_type": "code",
   "execution_count": 41,
   "metadata": {},
   "outputs": [
    {
     "ename": "SyntaxError",
     "evalue": "unexpected EOF while parsing (<ipython-input-41-7a73b16bc691>, line 1)",
     "output_type": "error",
     "traceback": [
      "\u001b[0;36m  File \u001b[0;32m\"<ipython-input-41-7a73b16bc691>\"\u001b[0;36m, line \u001b[0;32m1\u001b[0m\n\u001b[0;31m    for index, row in df.iterrows():\u001b[0m\n\u001b[0m                                    ^\u001b[0m\n\u001b[0;31mSyntaxError\u001b[0m\u001b[0;31m:\u001b[0m unexpected EOF while parsing\n"
     ]
    }
   ],
   "source": []
  },
  {
   "cell_type": "code",
   "execution_count": 1,
   "metadata": {
    "collapsed": true
   },
   "outputs": [],
   "source": [
    "a = set()"
   ]
  },
  {
   "cell_type": "code",
   "execution_count": 2,
   "metadata": {
    "collapsed": true
   },
   "outputs": [],
   "source": [
    "a.add(1)"
   ]
  },
  {
   "cell_type": "code",
   "execution_count": 4,
   "metadata": {},
   "outputs": [],
   "source": [
    "a.add(1)"
   ]
  },
  {
   "cell_type": "code",
   "execution_count": 5,
   "metadata": {},
   "outputs": [
    {
     "data": {
      "text/plain": [
       "{1}"
      ]
     },
     "execution_count": 5,
     "metadata": {},
     "output_type": "execute_result"
    }
   ],
   "source": [
    "a"
   ]
  },
  {
   "cell_type": "code",
   "execution_count": null,
   "metadata": {
    "collapsed": true
   },
   "outputs": [],
   "source": []
  }
 ],
 "metadata": {
  "kernelspec": {
   "display_name": "Python 3",
   "language": "python",
   "name": "python3"
  },
  "language_info": {
   "codemirror_mode": {
    "name": "ipython",
    "version": 3
   },
   "file_extension": ".py",
   "mimetype": "text/x-python",
   "name": "python",
   "nbconvert_exporter": "python",
   "pygments_lexer": "ipython3",
   "version": "3.6.1"
  }
 },
 "nbformat": 4,
 "nbformat_minor": 2
}
