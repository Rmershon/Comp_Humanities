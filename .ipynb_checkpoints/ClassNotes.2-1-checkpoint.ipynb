{
 "cells": [
  {
   "cell_type": "markdown",
   "metadata": {},
   "source": [
    "#### Corpus\n",
    "\n",
    "* term frequency\n",
    "* inverse doc freq\n",
    "* tf-idf\n",
    "* document vector\n",
    "* corpus matrix |words| * |docs|\n",
    "* cosine similarity\n",
    "* similarity matrix |docs| * |docs|\n",
    "    * closesed to being similar will be 1\n",
    "    \n",
    "* Distance matrix is taking 1 and subtracting each number from the similarity matrix\n",
    "\n",
    "\n",
    "##### UPGMA –––> (Unweighted Pair Group Method with Averaging)\n",
    "\n",
    "Look for the smallest number, those two docs become the first pairing.\n",
    "\n",
    "Now we make a new matrix with those two docs crossed out, and adding a new column and row. \n",
    "\n",
    "Take the two docs, then average each of the distances. So if we had documents paired as B, D. New element E, we would average the distances between A from B, D. \n",
    "\n",
    "So for the new element, we should record, the two previous elements, the average distance between them, and then the number of elements in the cluster\n",
    "\n",
    "\n",
    "ALG: "
   ]
  },
  {
   "cell_type": "code",
   "execution_count": null,
   "metadata": {
    "collapsed": true
   },
   "outputs": [],
   "source": [
    "a = [0, 0.2, 0.6, 1.0, 0.9]\n",
    "b = \n",
    "\n",
    "\n",
    "dists = []\n"
   ]
  }
 ],
 "metadata": {
  "kernelspec": {
   "display_name": "Python 3",
   "language": "python",
   "name": "python3"
  },
  "language_info": {
   "codemirror_mode": {
    "name": "ipython",
    "version": 3
   },
   "file_extension": ".py",
   "mimetype": "text/x-python",
   "name": "python",
   "nbconvert_exporter": "python",
   "pygments_lexer": "ipython3",
   "version": "3.6.1"
  }
 },
 "nbformat": 4,
 "nbformat_minor": 2
}
